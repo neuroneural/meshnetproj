{
  "cells": [
    {
      "cell_type": "markdown",
      "metadata": {
        "id": "Oxp9pcTthFZW"
      },
      "source": [
        "#Imports"
      ]
    },
    {
      "cell_type": "markdown",
      "source": [
        "* Installing nibabel and nilearn packages for reading 3d Brain MRI scans.\n",
        "* Importing essential libraries"
      ],
      "metadata": {
        "id": "BKmrYuJk1NpZ"
      }
    },
    {
      "cell_type": "code",
      "execution_count": null,
      "metadata": {
        "colab": {
          "base_uri": "https://localhost:8080/"
        },
        "id": "WPRBNRuVJAbX",
        "outputId": "73fd0668-2225-4471-99e4-9e98c006949e"
      },
      "outputs": [
        {
          "output_type": "stream",
          "name": "stdout",
          "text": [
            "Requirement already satisfied: nibabel in /usr/local/lib/python3.10/dist-packages (3.0.2)\n",
            "Collecting nilearn\n",
            "  Downloading nilearn-0.10.1-py3-none-any.whl (10.3 MB)\n",
            "\u001b[2K     \u001b[90m━━━━━━━━━━━━━━━━━━━━━━━━━━━━━━━━━━━━━━━━\u001b[0m \u001b[32m10.3/10.3 MB\u001b[0m \u001b[31m61.6 MB/s\u001b[0m eta \u001b[36m0:00:00\u001b[0m\n",
            "\u001b[?25hRequirement already satisfied: numpy>=1.12 in /usr/local/lib/python3.10/dist-packages (from nibabel) (1.22.4)\n",
            "Requirement already satisfied: joblib>=1.0.0 in /usr/local/lib/python3.10/dist-packages (from nilearn) (1.2.0)\n",
            "Requirement already satisfied: lxml in /usr/local/lib/python3.10/dist-packages (from nilearn) (4.9.2)\n",
            "Collecting nibabel\n",
            "  Downloading nibabel-5.1.0-py3-none-any.whl (3.3 MB)\n",
            "\u001b[2K     \u001b[90m━━━━━━━━━━━━━━━━━━━━━━━━━━━━━━━━━━━━━━━━\u001b[0m \u001b[32m3.3/3.3 MB\u001b[0m \u001b[31m89.6 MB/s\u001b[0m eta \u001b[36m0:00:00\u001b[0m\n",
            "\u001b[?25hRequirement already satisfied: packaging in /usr/local/lib/python3.10/dist-packages (from nilearn) (23.1)\n",
            "Requirement already satisfied: pandas>=1.1.5 in /usr/local/lib/python3.10/dist-packages (from nilearn) (1.5.3)\n",
            "Requirement already satisfied: requests>=2.25.0 in /usr/local/lib/python3.10/dist-packages (from nilearn) (2.27.1)\n",
            "Requirement already satisfied: scikit-learn>=1.0.0 in /usr/local/lib/python3.10/dist-packages (from nilearn) (1.2.2)\n",
            "Requirement already satisfied: scipy>=1.6.0 in /usr/local/lib/python3.10/dist-packages (from nilearn) (1.10.1)\n",
            "Requirement already satisfied: python-dateutil>=2.8.1 in /usr/local/lib/python3.10/dist-packages (from pandas>=1.1.5->nilearn) (2.8.2)\n",
            "Requirement already satisfied: pytz>=2020.1 in /usr/local/lib/python3.10/dist-packages (from pandas>=1.1.5->nilearn) (2022.7.1)\n",
            "Requirement already satisfied: urllib3<1.27,>=1.21.1 in /usr/local/lib/python3.10/dist-packages (from requests>=2.25.0->nilearn) (1.26.16)\n",
            "Requirement already satisfied: certifi>=2017.4.17 in /usr/local/lib/python3.10/dist-packages (from requests>=2.25.0->nilearn) (2023.5.7)\n",
            "Requirement already satisfied: charset-normalizer~=2.0.0 in /usr/local/lib/python3.10/dist-packages (from requests>=2.25.0->nilearn) (2.0.12)\n",
            "Requirement already satisfied: idna<4,>=2.5 in /usr/local/lib/python3.10/dist-packages (from requests>=2.25.0->nilearn) (3.4)\n",
            "Requirement already satisfied: threadpoolctl>=2.0.0 in /usr/local/lib/python3.10/dist-packages (from scikit-learn>=1.0.0->nilearn) (3.1.0)\n",
            "Requirement already satisfied: six>=1.5 in /usr/local/lib/python3.10/dist-packages (from python-dateutil>=2.8.1->pandas>=1.1.5->nilearn) (1.16.0)\n",
            "Installing collected packages: nibabel, nilearn\n",
            "  Attempting uninstall: nibabel\n",
            "    Found existing installation: nibabel 3.0.2\n",
            "    Uninstalling nibabel-3.0.2:\n",
            "      Successfully uninstalled nibabel-3.0.2\n",
            "Successfully installed nibabel-5.1.0 nilearn-0.10.1\n"
          ]
        }
      ],
      "source": [
        "!pip install nibabel nilearn"
      ]
    },
    {
      "cell_type": "code",
      "execution_count": null,
      "metadata": {
        "id": "TNueE888JCQp"
      },
      "outputs": [],
      "source": [
        "import numpy as np\n",
        "import pandas as pd\n",
        "import nibabel as nib\n",
        "import ipywidgets as widgets\n",
        "from nilearn import plotting\n",
        "import matplotlib.pyplot as plt\n",
        "from IPython.display import display\n",
        "from collections import OrderedDict\n",
        "import torch\n",
        "import torch.nn as nn\n",
        "from torch.utils.checkpoint import checkpoint_sequential\n",
        "from torch.utils.data import DataLoader"
      ]
    },
    {
      "cell_type": "markdown",
      "metadata": {
        "id": "5VYNwjgLSwLd"
      },
      "source": [
        "# Download required dataset"
      ]
    },
    {
      "cell_type": "markdown",
      "source": [
        "We'll be using samples from Mindboggle 101 brain MRI scans dataset for a multiclass 3d segmentation task.\n",
        "* Contents:\n",
        "  1. BrainDatasets comprise of T1 scans + the prepared limited labels.\n",
        "  2. Training(10 pairs of images,labels), Validation(2 pairs), Inference(3 pairs) datasets"
      ],
      "metadata": {
        "id": "y99spj1F2Zt-"
      }
    },
    {
      "cell_type": "code",
      "execution_count": null,
      "metadata": {
        "id": "uBBYs8LiBvRs"
      },
      "outputs": [],
      "source": [
        "!wget https://meshnet-pr-dataset.s3.amazonaws.com/data-1-10.zip\n",
        "!unzip data-1-10.zip\n",
        "!rm data-1-10.zip"
      ]
    },
    {
      "cell_type": "markdown",
      "metadata": {
        "id": "slH_hecyS9J8"
      },
      "source": [
        "# Generate graywhite and anatomic labels from existing label files"
      ]
    },
    {
      "cell_type": "code",
      "execution_count": null,
      "metadata": {
        "colab": {
          "base_uri": "https://localhost:8080/",
          "height": 35
        },
        "id": "RF1RJ8o-An3X",
        "outputId": "4e6e0298-2603-4742-99f7-4eecb0338ba5"
      },
      "outputs": [
        {
          "output_type": "execute_result",
          "data": {
            "text/plain": [
              "'/content/drive/MyDrive/Final_meshnet'"
            ],
            "application/vnd.google.colaboratory.intrinsic+json": {
              "type": "string"
            }
          },
          "metadata": {},
          "execution_count": 5
        }
      ],
      "source": [
        "pwd"
      ]
    },
    {
      "cell_type": "markdown",
      "source": [
        "This function takes an input label array and produces a binary mask that distinguishes white matter and gray matter regions using specific integer codes."
      ],
      "metadata": {
        "id": "Z1NBHcjw6_du"
      }
    },
    {
      "cell_type": "code",
      "execution_count": null,
      "metadata": {
        "id": "8jtDcxjUHLFL"
      },
      "outputs": [],
      "source": [
        "def labels2graywhite(label):\n",
        " white_code = [2, 41, 7, 16, 46] + [*range(251, 256)]\n",
        " gray_code = (\n",
        "     [*range(1001, 1004)]\n",
        "     + [*range(1005, 1036)]\n",
        "     + [*range(2001, 2004)]\n",
        "     + [*range(2005, 2036)]\n",
        "     + [*range(8, 14)]\n",
        "     + [*range(17, 21)]\n",
        "     + [*range(26, 29)]\n",
        "     + [*range(47, 56)]\n",
        "     + [*range(58, 61)]\n",
        " )\n",
        " white = np.isin(label, white_code)\n",
        " gray = np.isin(label, gray_code)\n",
        " return white.astype(np.uint8) + (2 * gray).astype(np.uint8)"
      ]
    },
    {
      "cell_type": "markdown",
      "source": [
        "This function takes an input label array and maps the labels to anatomical regions"
      ],
      "metadata": {
        "id": "A-k0A8VY7c0G"
      }
    },
    {
      "cell_type": "code",
      "execution_count": null,
      "metadata": {
        "id": "tu11Qg88He3s"
      },
      "outputs": [],
      "source": [
        "def labels2anatomic(label):\n",
        "    source = (\n",
        "        [0]\n",
        "        + [i for i in range(1001, 1004)]\n",
        "        + [i for i in range(1005, 1036)]\n",
        "        + [i for i in range(2001, 2004)]\n",
        "        + [i for i in range(2005, 2036)]\n",
        "        + [10,49,11,50,12,51,13,52,17,53,18,54,26,58,28,60,2,41,4,5,43,44,14,15,24,16,7,46,8,47,251,252,253,254,255,]\n",
        "        )\n",
        "    labelmap = {x: idx for idx, x in enumerate(source)}\n",
        "\n",
        "    @np.vectorize\n",
        "    def relabel(x):\n",
        "        y = 0\n",
        "        if x in labelmap:\n",
        "            y = labelmap[x]\n",
        "        return y\n",
        "    return relabel(label).astype(np.uint8)"
      ]
    },
    {
      "cell_type": "markdown",
      "source": [
        "This function is for creating new labels names for labels generated from above **labels2anatomic, labels2graywhite** functions"
      ],
      "metadata": {
        "id": "FuZQdAPK7fk7"
      }
    },
    {
      "cell_type": "code",
      "execution_count": null,
      "metadata": {
        "id": "dAPfH7XZIbXD"
      },
      "outputs": [],
      "source": [
        "def create_label(label, prefix):\n",
        "  temp=label.split('/')[:-1]\n",
        "  temp.append(prefix+label.split('/')[-1])\n",
        "  return '/'.join(temp)"
      ]
    },
    {
      "cell_type": "markdown",
      "source": [
        "function to update dataset.CSV files with new GW labels and anatamic labels details"
      ],
      "metadata": {
        "id": "gco9Pyua70ni"
      }
    },
    {
      "cell_type": "code",
      "execution_count": null,
      "metadata": {
        "id": "yQuXBwKZHbRw"
      },
      "outputs": [],
      "source": [
        "def update_csv(CSV_file):\n",
        "  data = pd.read_csv(CSV_file)\n",
        "  data['GWlabels']=np.array([create_label(i, 'GW') for i in data['labels']], dtype=object)\n",
        "  data['ANAlabels']=np.array([create_label(i, 'ANA') for i in data['labels']], dtype=object)\n",
        "  data.drop(['nii_labels'], inplace=True, axis=1)\n",
        "  data.to_csv(CSV_file, index=False)"
      ]
    },
    {
      "cell_type": "markdown",
      "source": [
        "Function to Create GW labes using **labels2graywhite** function"
      ],
      "metadata": {
        "id": "Z9G_RjV58H1O"
      }
    },
    {
      "cell_type": "code",
      "execution_count": null,
      "metadata": {
        "id": "qP32gW1lOU9l"
      },
      "outputs": [],
      "source": [
        "def create_greywhite(CSV_file):\n",
        "  data = pd.read_csv(CSV_file)\n",
        "  for label,GWlabel in zip(data.labels,data.GWlabels):\n",
        "    print('/'.join(GWlabel.split('/')[:-1]),GWlabel.split('/')[-1])\n",
        "    img_nifti = nib.load(label)\n",
        "    img = np.array(img_nifti.dataobj)\n",
        "    ni_img = nib.Nifti1Image(labels2graywhite(img), affine=np.eye(4))\n",
        "    nib.save(ni_img, os.path.join('/'.join(GWlabel.split('/')[:-1]), GWlabel.split('/')[-1]))"
      ]
    },
    {
      "cell_type": "markdown",
      "source": [
        "Function to Create anatomic labes using **labels2anatomic** function"
      ],
      "metadata": {
        "id": "aRr7zh5V8jca"
      }
    },
    {
      "cell_type": "code",
      "execution_count": null,
      "metadata": {
        "id": "n9s3gj8DQkfT"
      },
      "outputs": [],
      "source": [
        "def create_ANA(CSV_file):\n",
        "  data = pd.read_csv(CSV_file)\n",
        "  for label,ANAlabel in zip(data.labels,data.ANAlabels):\n",
        "    print('/'.join(ANAlabel.split('/')[:-1]),ANAlabel.split('/')[-1])\n",
        "    img_nifti = nib.load(label)\n",
        "    img = np.array(img_nifti.dataobj)\n",
        "    ni_img = nib.Nifti1Image(labels2anatomic(img), affine=np.eye(4))\n",
        "    nib.save(ni_img, os.path.join('/'.join(ANAlabel.split('/')[:-1]), ANAlabel.split('/')[-1]))"
      ]
    },
    {
      "cell_type": "markdown",
      "source": [
        "Update dataset.csv's [Train,Infer,Valid) with generated GW and anatomic labels using **update_csv,create_ANA,create_greywhite**"
      ],
      "metadata": {
        "id": "HIfvSlvb8qv4"
      }
    },
    {
      "cell_type": "code",
      "execution_count": null,
      "metadata": {
        "colab": {
          "base_uri": "https://localhost:8080/"
        },
        "id": "36yU0UqRRVzq",
        "outputId": "6820f287-291b-479c-c44d-8970f8b17dad"
      },
      "outputs": [
        {
          "output_type": "stream",
          "name": "stdout",
          "text": [
            "data/Mindboggle_101/MMRR-21_volumes/MMRR-21-7 GWlabels.DKT31.manual+aseg.nii.gz\n",
            "data/Mindboggle_101/NKI-RS-22_volumes/NKI-RS-22-19 GWlabels.DKT31.manual+aseg.nii.gz\n",
            "data/Mindboggle_101/NKI-TRT-20_volumes/NKI-TRT-20-18 GWlabels.DKT31.manual+aseg.nii.gz\n",
            "data/Mindboggle_101/NKI-TRT-20_volumes/NKI-TRT-20-11 GWlabels.DKT31.manual+aseg.nii.gz\n",
            "data/Mindboggle_101/NKI-RS-22_volumes/NKI-RS-22-8 GWlabels.DKT31.manual+aseg.nii.gz\n",
            "data/Mindboggle_101/NKI-RS-22_volumes/NKI-RS-22-15 GWlabels.DKT31.manual+aseg.nii.gz\n",
            "data/Mindboggle_101/OASIS-TRT-20_volumes/OASIS-TRT-20-13 GWlabels.DKT31.manual+aseg.nii.gz\n",
            "data/Mindboggle_101/NKI-RS-22_volumes/NKI-RS-22-9 GWlabels.DKT31.manual+aseg.nii.gz\n",
            "data/Mindboggle_101/Extra-18_volumes/HLN-12-12 GWlabels.DKT31.manual+aseg.nii.gz\n",
            "data/Mindboggle_101/Extra-18_volumes/MMRR-3T7T-2-1 GWlabels.DKT31.manual+aseg.nii.gz\n",
            "data/Mindboggle_101/MMRR-21_volumes/MMRR-21-7 ANAlabels.DKT31.manual+aseg.nii.gz\n",
            "data/Mindboggle_101/NKI-RS-22_volumes/NKI-RS-22-19 ANAlabels.DKT31.manual+aseg.nii.gz\n",
            "data/Mindboggle_101/NKI-TRT-20_volumes/NKI-TRT-20-18 ANAlabels.DKT31.manual+aseg.nii.gz\n",
            "data/Mindboggle_101/NKI-TRT-20_volumes/NKI-TRT-20-11 ANAlabels.DKT31.manual+aseg.nii.gz\n",
            "data/Mindboggle_101/NKI-RS-22_volumes/NKI-RS-22-8 ANAlabels.DKT31.manual+aseg.nii.gz\n",
            "data/Mindboggle_101/NKI-RS-22_volumes/NKI-RS-22-15 ANAlabels.DKT31.manual+aseg.nii.gz\n",
            "data/Mindboggle_101/OASIS-TRT-20_volumes/OASIS-TRT-20-13 ANAlabels.DKT31.manual+aseg.nii.gz\n",
            "data/Mindboggle_101/NKI-RS-22_volumes/NKI-RS-22-9 ANAlabels.DKT31.manual+aseg.nii.gz\n",
            "data/Mindboggle_101/Extra-18_volumes/HLN-12-12 ANAlabels.DKT31.manual+aseg.nii.gz\n",
            "data/Mindboggle_101/Extra-18_volumes/MMRR-3T7T-2-1 ANAlabels.DKT31.manual+aseg.nii.gz\n",
            "data/Mindboggle_101/NKI-RS-22_volumes/NKI-RS-22-5 GWlabels.DKT31.manual+aseg.nii.gz\n",
            "data/Mindboggle_101/NKI-TRT-20_volumes/NKI-TRT-20-6 GWlabels.DKT31.manual+aseg.nii.gz\n",
            "data/Mindboggle_101/MMRR-21_volumes/MMRR-21-9 GWlabels.DKT31.manual+aseg.nii.gz\n",
            "data/Mindboggle_101/NKI-RS-22_volumes/NKI-RS-22-5 ANAlabels.DKT31.manual+aseg.nii.gz\n",
            "data/Mindboggle_101/NKI-TRT-20_volumes/NKI-TRT-20-6 ANAlabels.DKT31.manual+aseg.nii.gz\n",
            "data/Mindboggle_101/MMRR-21_volumes/MMRR-21-9 ANAlabels.DKT31.manual+aseg.nii.gz\n",
            "data/Mindboggle_101/MMRR-21_volumes/MMRR-21-3 GWlabels.DKT31.manual+aseg.nii.gz\n",
            "data/Mindboggle_101/MMRR-21_volumes/MMRR-21-12 GWlabels.DKT31.manual+aseg.nii.gz\n",
            "data/Mindboggle_101/MMRR-21_volumes/MMRR-21-3 ANAlabels.DKT31.manual+aseg.nii.gz\n",
            "data/Mindboggle_101/MMRR-21_volumes/MMRR-21-12 ANAlabels.DKT31.manual+aseg.nii.gz\n"
          ]
        }
      ],
      "source": [
        "update_csv('./data/dataset_train.csv')\n",
        "create_greywhite('./data/dataset_train.csv')\n",
        "create_ANA('./data/dataset_train.csv')\n",
        "update_csv('./data/dataset_infer.csv')\n",
        "create_greywhite('./data/dataset_infer.csv')\n",
        "create_ANA('./data/dataset_infer.csv')\n",
        "update_csv('./data/dataset_valid.csv')\n",
        "create_greywhite('./data/dataset_valid.csv')\n",
        "create_ANA('./data/dataset_valid.csv')"
      ]
    },
    {
      "cell_type": "markdown",
      "metadata": {
        "id": "GmLKx_pOSoLy"
      },
      "source": [
        "# Plotting Functions"
      ]
    },
    {
      "cell_type": "markdown",
      "source": [
        "The code creates interactive sliders to visualize 3D image volumes and labels. It uses the **peek_class_new** class to handle the slider creation and display, and **nibabel** to load and prepare the image and label data for visualization. We use this functionality to visualise the predictions from our trained model"
      ],
      "metadata": {
        "id": "SBC5bVXV9iib"
      }
    },
    {
      "cell_type": "code",
      "execution_count": null,
      "metadata": {
        "id": "Xvw97YKhnFuU"
      },
      "outputs": [],
      "source": [
        "# Create x, y, and z coordinate sliders\n",
        "class peek_class_new:\n",
        "    def __init__(self,scan_data, label_bool):\n",
        "        self.label_bool = label_bool\n",
        "        self.scan_data = scan_data\n",
        "        if self.label_bool:\n",
        "          self.x_slider = widgets.IntSlider(min=0, max=self.scan_data.shape[0]-1, value=(self.scan_data.shape[0]-1)/2, description='X')\n",
        "          self.y_slider = widgets.IntSlider(min=0, max=self.scan_data.shape[1]-1, value=(self.scan_data.shape[1]-1)/2, description='Y')\n",
        "          self.z_slider = widgets.IntSlider(min=0, max=self.scan_data.shape[2]-1, value=(self.scan_data.shape[2]-1)/2, description='Z')\n",
        "        else:\n",
        "          self.x_slider = widgets.IntSlider(min=(self.scan_data.shape[0]-1)*-1, max=0, value=((self.scan_data.shape[0]-1)/2)*-1, description='X')\n",
        "          self.y_slider = widgets.IntSlider(min=(self.scan_data.shape[1]-1)*-1, max=0, value=((self.scan_data.shape[1]-1)/2)*-1, description='Y')\n",
        "          self.z_slider = widgets.IntSlider(min=0, max=self.scan_data.shape[0]-1, value=(self.scan_data.shape[2]-1)/2, description='Z')\n",
        "\n",
        "    def shape(self):\n",
        "      print(f\" {self.scan_data.shape[0]} {self.scan_data.shape[1]} {self.scan_data.shape[2]}\")\n",
        "\n",
        "    def update_slices(self, x, y, z):\n",
        "      display_plot = plotting.plot_anat(self.scan_data, cut_coords=(x, y, z)).add_markers(marker_coords=[[x, y, z]])\n",
        "      # Display the plot\n",
        "      plotting.show()\n",
        "\n",
        "    def plots(self):\n",
        "      # Link the sliders to the update function\n",
        "      widgets.interact(self.update_slices, x=self.x_slider, y=self.y_slider, z=self.z_slider)\n",
        "      # Display the sliders\n",
        "      display(self.x_slider, self.y_slider, self.z_slider)"
      ]
    },
    {
      "cell_type": "code",
      "execution_count": null,
      "metadata": {
        "id": "8rhmg4VH3yZg"
      },
      "outputs": [],
      "source": [
        "img= nib.load('data/Mindboggle_101/MMRR-21_volumes/MMRR-21-7/t1weighted.nii.gz').get_fdata(dtype=np.float32)\n",
        "volume_shape = [256, 256, 256]\n",
        "temp= np.zeros(volume_shape)\n",
        "temp[: img.shape[0], : img.shape[1], : img.shape[2]] = img\n",
        "image=temp\n",
        "# Create a NIfTI image object\n",
        "nifi_image = nib.Nifti1Image(image, affine=np.eye(4))  # Use identity affine matrix for simplicity"
      ]
    },
    {
      "cell_type": "code",
      "execution_count": null,
      "metadata": {
        "colab": {
          "base_uri": "https://localhost:8080/",
          "referenced_widgets": [
            "81685021496a4cd58095c90e94615c73",
            "c71aacb244b74636898f042c29d98fbe",
            "02fd9c34cb794160ab5db108f6090586",
            "8cbda521f40240b184ae6a5683d463bf",
            "78e5b435db8c40fa985c4ba9666d3682",
            "290383fa22704686afe12c39dc369210",
            "44494d6e4c5a4c7f94160630906ff22b",
            "ac724964809f47fa8c11021ca7f37dd0",
            "408136306c0b44ea93818a06aa8fd872",
            "d5a4b8c279854b65bdb81633111730f7",
            "a99f7f9431e248acba14ca4db48877af",
            "6bdab4ad826b4db099b8bce8ad823319",
            "1e040c8fc1614a65b6c1c1528ba38b6c"
          ]
        },
        "id": "0oGF8djN4H0W",
        "outputId": "bd7a9fe7-203c-46a5-8c67-6a1685b02647"
      },
      "outputs": [
        {
          "data": {
            "application/vnd.jupyter.widget-view+json": {
              "model_id": "81685021496a4cd58095c90e94615c73",
              "version_major": 2,
              "version_minor": 0
            },
            "text/plain": [
              "interactive(children=(IntSlider(value=127, description='X', max=255), IntSlider(value=127, description='Y', ma…"
            ]
          },
          "metadata": {},
          "output_type": "display_data"
        },
        {
          "data": {
            "application/vnd.jupyter.widget-view+json": {
              "model_id": "c71aacb244b74636898f042c29d98fbe",
              "version_major": 2,
              "version_minor": 0
            },
            "text/plain": [
              "IntSlider(value=127, description='X', max=255)"
            ]
          },
          "metadata": {},
          "output_type": "display_data"
        },
        {
          "data": {
            "application/vnd.jupyter.widget-view+json": {
              "model_id": "02fd9c34cb794160ab5db108f6090586",
              "version_major": 2,
              "version_minor": 0
            },
            "text/plain": [
              "IntSlider(value=127, description='Y', max=255)"
            ]
          },
          "metadata": {},
          "output_type": "display_data"
        },
        {
          "data": {
            "application/vnd.jupyter.widget-view+json": {
              "model_id": "8cbda521f40240b184ae6a5683d463bf",
              "version_major": 2,
              "version_minor": 0
            },
            "text/plain": [
              "IntSlider(value=127, description='Z', max=255)"
            ]
          },
          "metadata": {},
          "output_type": "display_data"
        }
      ],
      "source": [
        "images = peek_class_new(nifi_image,1)\n",
        "images.plots()"
      ]
    },
    {
      "cell_type": "code",
      "execution_count": null,
      "metadata": {
        "id": "MMgLXmvT4gUS"
      },
      "outputs": [],
      "source": [
        "img= nib.load('data/Mindboggle_101/MMRR-21_volumes/MMRR-21-7/GWlabels.DKT31.manual+aseg.nii.gz').get_fdata(dtype=np.float32)\n",
        "volume_shape = [256, 256, 256]\n",
        "temp= np.zeros(volume_shape)\n",
        "temp[: img.shape[0], : img.shape[1], : img.shape[2]] = img\n",
        "image=temp\n",
        "# Create a NIfTI image object\n",
        "nifi_image = nib.Nifti1Image(image, affine=np.eye(4))  # Use identity affine matrix for simplicity"
      ]
    },
    {
      "cell_type": "code",
      "execution_count": null,
      "metadata": {
        "colab": {
          "base_uri": "https://localhost:8080/",
          "referenced_widgets": [
            "7d634c4c97404c388a350ee766b18eb0",
            "a20d7b201c4f46d19a14cfcbc8155858",
            "fea7ab2ad05d4a13a9dfde592516f753",
            "d2594a2fe8f445828944b82afe2d038e",
            "0c26e9a3542d44168e7f66688a948de5",
            "2f2c835e1a4d4657b7516bf23d187fd3",
            "2a139b433c4546f8a5e25df172f537c2",
            "3de7714047384a53bee230cbd88cf940",
            "597b046f2b2e4b93ab09eefb48709312",
            "b43121e57dbd4b4eaa76857d44be3db3",
            "c05976c86db249248a0d43c054097560",
            "ae21d2d0637d4b6aac5809289cdb2ae6",
            "1e3183186e9d4cf3adba384d1528f3a2"
          ]
        },
        "id": "I9Ac24kj4ls2",
        "outputId": "91e6e308-acfa-4931-8c65-c00bad65785a"
      },
      "outputs": [
        {
          "data": {
            "application/vnd.jupyter.widget-view+json": {
              "model_id": "7d634c4c97404c388a350ee766b18eb0",
              "version_major": 2,
              "version_minor": 0
            },
            "text/plain": [
              "interactive(children=(IntSlider(value=127, description='X', max=255), IntSlider(value=127, description='Y', ma…"
            ]
          },
          "metadata": {},
          "output_type": "display_data"
        },
        {
          "data": {
            "application/vnd.jupyter.widget-view+json": {
              "model_id": "a20d7b201c4f46d19a14cfcbc8155858",
              "version_major": 2,
              "version_minor": 0
            },
            "text/plain": [
              "IntSlider(value=127, description='X', max=255)"
            ]
          },
          "metadata": {},
          "output_type": "display_data"
        },
        {
          "data": {
            "application/vnd.jupyter.widget-view+json": {
              "model_id": "fea7ab2ad05d4a13a9dfde592516f753",
              "version_major": 2,
              "version_minor": 0
            },
            "text/plain": [
              "IntSlider(value=127, description='Y', max=255)"
            ]
          },
          "metadata": {},
          "output_type": "display_data"
        },
        {
          "data": {
            "application/vnd.jupyter.widget-view+json": {
              "model_id": "d2594a2fe8f445828944b82afe2d038e",
              "version_major": 2,
              "version_minor": 0
            },
            "text/plain": [
              "IntSlider(value=127, description='Z', max=255)"
            ]
          },
          "metadata": {},
          "output_type": "display_data"
        }
      ],
      "source": [
        "labels = peek_class_new(nifi_image,1)\n",
        "labels.plots()"
      ]
    },
    {
      "cell_type": "markdown",
      "metadata": {
        "id": "OvlSnfs38UAS"
      },
      "source": [
        "# Meshnet custom model Implementation"
      ]
    },
    {
      "cell_type": "code",
      "execution_count": null,
      "metadata": {
        "id": "hDa9g4K29nEh"
      },
      "outputs": [],
      "source": [
        "MeshNet_5_ae16 = [\n",
        "    {\"in_channels\": -1,\"kernel_size\": 3,\"out_channels\": 5,\"padding\": 1,\"stride\": 1,\"dilation\": 1,},\n",
        "    {\"in_channels\": 5,\"kernel_size\": 3,\"out_channels\": 5,\"padding\": 2,\"stride\": 1,\"dilation\": 2,},\n",
        "    {\"in_channels\": 5,\"kernel_size\": 3,\"out_channels\": 5,\"padding\": 4,\"stride\": 1,\"dilation\": 4,},\n",
        "    {\"in_channels\": 5,\"kernel_size\": 3,\"out_channels\": 5,\"padding\": 8,\"stride\": 1,\"dilation\": 8,},\n",
        "   {\"in_channels\": 5,\"kernel_size\": 3,\"out_channels\": 5,\"padding\": 16,\"stride\": 1,\"dilation\": 16,},\n",
        "    {\"in_channels\": 5,\"kernel_size\": 3,\"out_channels\": 5,\"padding\": 8,\"stride\": 1,\"dilation\": 8,},\n",
        "    {\"in_channels\": 5,\"kernel_size\": 3,\"out_channels\": 5,\"padding\": 4,\"stride\": 1,\"dilation\": 4,},\n",
        "    {\"in_channels\": 5,\"kernel_size\": 3,\"out_channels\": 5,\"padding\": 2,\"stride\": 1,\"dilation\": 2,},\n",
        "    {\"in_channels\": 5,\"kernel_size\": 3,\"out_channels\": 5,\"padding\": 1,\"stride\": 1,\"dilation\": 1,},\n",
        "    {\"in_channels\": 5,\"kernel_size\": 1,\"out_channels\": -1,\"padding\": 0,\"stride\": 1,\"dilation\": 1,},\n",
        "]"
      ]
    },
    {
      "cell_type": "code",
      "execution_count": null,
      "metadata": {
        "id": "DawF_iJk-ujc"
      },
      "outputs": [],
      "source": [
        "def ae16channels(channels=5, basearch=MeshNet_5_ae16):\n",
        "    start = {\"out_channels\": channels}\n",
        "    middle = {\"in_channels\": channels,\"out_channels\": channels}\n",
        "    end = {\"in_channels\": channels}\n",
        "    modifier = [start] + [middle for _ in range(len(basearch)-2)] + [end]\n",
        "    newarch = basearch.copy()\n",
        "    [x.update(y) for x,y in zip(newarch, modifier)]\n",
        "    return newarch"
      ]
    },
    {
      "cell_type": "code",
      "execution_count": null,
      "metadata": {
        "id": "JkslLfm3-3YI"
      },
      "outputs": [],
      "source": [
        "def conv_w_bn_before_act(dropout_p=0, bnorm=True, gelu=False, *args, **kwargs):\n",
        "    \"\"\"Configurable Conv block with Batchnorm and Dropout\"\"\"\n",
        "    sequence = [(\"conv\", nn.Conv3d(*args, **kwargs))]\n",
        "    if bnorm:\n",
        "        sequence.append((\"bnorm\", nn.BatchNorm3d(kwargs[\"out_channels\"])))\n",
        "    if gelu:\n",
        "        sequence.append((\"gelu\", nn.GELU()))\n",
        "    else:\n",
        "        sequence.append((\"relu\", nn.ReLU(inplace=True)))\n",
        "    sequence.append((\"dropout\", nn.Dropout3d(dropout_p)))\n",
        "    layer = nn.Sequential(OrderedDict(sequence))\n",
        "    return layer"
      ]
    },
    {
      "cell_type": "code",
      "execution_count": null,
      "metadata": {
        "id": "lYYzQRaB-6O3"
      },
      "outputs": [],
      "source": [
        "def init_weights(model):\n",
        "    \"\"\"Set weights to be xavier normal for all Convs\"\"\"\n",
        "    for m in model.modules():\n",
        "        if isinstance(m, (nn.Conv2d, nn.Conv3d, nn.ConvTranspose2d, nn.ConvTranspose3d)):\n",
        "            nn.init.xavier_normal_(m.weight, gain=nn.init.calculate_gain(\"relu\"))\n",
        "            nn.init.constant_(m.bias, 0.0)"
      ]
    },
    {
      "cell_type": "code",
      "execution_count": null,
      "metadata": {
        "id": "u4Y1-3qa-9ii"
      },
      "outputs": [],
      "source": [
        "class MeshNet(nn.Module):\n",
        "    \"\"\"Configurable MeshNet from https://arxiv.org/pdf/1612.00940.pdf\"\"\"\n",
        "\n",
        "    def __init__(self, n_channels, n_classes, large=True, bnorm=True, gelu=False, dropout_p=0):\n",
        "        \"\"\"Init\"\"\"\n",
        "        if large:\n",
        "            params  = ae16channels(5)\n",
        "        else:\n",
        "            params = MeshNet_5_ae16\n",
        "\n",
        "        super(MeshNet, self).__init__()\n",
        "        params[0][\"in_channels\"] = n_channels\n",
        "        params[-1][\"out_channels\"] = n_classes\n",
        "        layers = [\n",
        "            conv_w_bn_before_act(dropout_p=dropout_p, bnorm=bnorm, gelu=gelu, **block_kwargs)\n",
        "            for block_kwargs in params[:-1]\n",
        "        ]\n",
        "        layers.append(nn.Conv3d(**params[-1]))\n",
        "        self.model = nn.Sequential(*layers)\n",
        "        init_weights(self.model)\n",
        "\n",
        "    def forward(self, x):\n",
        "        \"\"\"Forward pass\"\"\"\n",
        "        x = self.model(x)\n",
        "        return x"
      ]
    },
    {
      "cell_type": "code",
      "execution_count": null,
      "metadata": {
        "id": "T6pC_IrX_B8q"
      },
      "outputs": [],
      "source": [
        "class enMesh_checkpoint(MeshNet):\n",
        "    def train_forward(self, x):\n",
        "        y = x\n",
        "        y.requires_grad_()\n",
        "        y = checkpoint_sequential(\n",
        "            self.model, len(self.model), y, preserve_rng_state=False\n",
        "        )\n",
        "        return y\n",
        "\n",
        "    def eval_forward(self, x):\n",
        "        \"\"\"Forward pass\"\"\"\n",
        "        self.model.eval()\n",
        "        with torch.inference_mode():\n",
        "            x = self.model(x)\n",
        "        return x\n",
        "\n",
        "    def forward(self, x):\n",
        "        if self.training:\n",
        "            return self.train_forward(x)\n",
        "        else:\n",
        "            return self.eval_forward(x)"
      ]
    },
    {
      "cell_type": "markdown",
      "metadata": {
        "id": "UuM8jtHKQOfz"
      },
      "source": [
        "# Subvolumes generator/Volume reassembler and dataloader funtions"
      ]
    },
    {
      "cell_type": "markdown",
      "source": [
        "Below class **CubeDivider** provides a convenient way to divide and reassemble tensors, which can be useful for processing large 3D tensors"
      ],
      "metadata": {
        "id": "aNH5hc_dAVii"
      }
    },
    {
      "cell_type": "code",
      "execution_count": null,
      "metadata": {
        "colab": {
          "base_uri": "https://localhost:8080/"
        },
        "id": "WesSBrDr3H5x",
        "outputId": "33c832ca-bbba-4756-db7a-f56a4eb4d740"
      },
      "outputs": [
        {
          "output_type": "stream",
          "name": "stdout",
          "text": [
            "torch.Size([32, 32, 32])\n"
          ]
        }
      ],
      "source": [
        "import torch\n",
        "from torch.utils.data import Dataset\n",
        "\n",
        "class CubeDivider:\n",
        "    def __init__(self, tensor, num_cubes):\n",
        "        self.tensor = tensor\n",
        "        self.num_cubes = num_cubes\n",
        "        self.sub_cube_size = tensor.shape[0] // num_cubes  # Assuming the tensor is a cube\n",
        "\n",
        "    def divide_into_sub_cubes(self):\n",
        "        sub_cubes = []\n",
        "\n",
        "        for i in range(self.num_cubes):\n",
        "            for j in range(self.num_cubes):\n",
        "                for k in range(self.num_cubes):\n",
        "                    sub_cube = self.tensor[\n",
        "                        i * self.sub_cube_size: (i + 1) * self.sub_cube_size,\n",
        "                        j * self.sub_cube_size: (j + 1) * self.sub_cube_size,\n",
        "                        k * self.sub_cube_size: (k + 1) * self.sub_cube_size\n",
        "                    ].clone()\n",
        "                    sub_cubes.append(sub_cube)\n",
        "\n",
        "        sub_cubes = torch.stack(sub_cubes,0)\n",
        "        return sub_cubes\n",
        "\n",
        "    @staticmethod\n",
        "    def reassemble_sub_cubes(sub_cubes):\n",
        "        sub_cubes = torch.unbind(sub_cubes, dim=0)\n",
        "        num_cubes = int(len(sub_cubes) ** (1/3))\n",
        "        sub_cube_size = sub_cubes[0].shape[0]\n",
        "        tensor_size = num_cubes * sub_cube_size\n",
        "        tensor = torch.zeros((tensor_size, tensor_size, tensor_size), dtype=torch.float32)\n",
        "\n",
        "        for i in range(num_cubes):\n",
        "            for j in range(num_cubes):\n",
        "                for k in range(num_cubes):\n",
        "                    sub_cube = sub_cubes[i * num_cubes**2 + j * num_cubes + k]\n",
        "                    tensor[\n",
        "                        i * sub_cube_size: (i + 1) * sub_cube_size,\n",
        "                        j * sub_cube_size: (j + 1) * sub_cube_size,\n",
        "                        k * sub_cube_size: (k + 1) * sub_cube_size\n",
        "                    ] = sub_cube\n",
        "\n",
        "        return tensor\n",
        "\n",
        "# Usage:\n",
        "# Assuming tensor is a 3D PyTorch tensor\n",
        "tensor = torch.randn(32, 32, 32)  # Example tensor\n",
        "num_cubes = 2  # Number of sub-cubes\n",
        "\n",
        "divider = CubeDivider(tensor, num_cubes)\n",
        "\n",
        "# Divide the cube tensor into sub-cubes\n",
        "sub_cubes = divider.divide_into_sub_cubes()\n",
        "\n",
        "# Reassemble the sub-cubes to create the original cube tensor\n",
        "reconstructed_tensor = CubeDivider.reassemble_sub_cubes(sub_cubes)\n",
        "\n",
        "print(reconstructed_tensor.shape)  # Should be the same as the original tensor shape\n"
      ]
    },
    {
      "cell_type": "markdown",
      "source": [
        "Below class **DataLoaderClass** that loads and processes data from a CSV file using PyTorch's DataLoader.\n",
        "\n",
        "1. The dataloader method reads the CSV file, preprocesses the images and labels, and creates a DataLoader object for the processed data.\n",
        "2. The data is divided into sub-cubes using the **CubeDivider** class.\n",
        "3. The labels are converted into a one-hot encoding representation."
      ],
      "metadata": {
        "id": "Vc7TzLElCXhS"
      }
    },
    {
      "cell_type": "code",
      "execution_count": null,
      "metadata": {
        "id": "cT9N0M3q1ymK"
      },
      "outputs": [],
      "source": [
        "class DataLoaderClass:\n",
        "  def __init__(self,csv_file, coor_factor, batch_size):\n",
        "    self.csv_file=csv_file\n",
        "    self.coor_factor=coor_factor\n",
        "    self.batch_size=batch_size\n",
        "\n",
        "  def dataloader(self):\n",
        "    data = pd.read_csv(self.csv_file)\n",
        "    volume_shape = [256, 256, 256]\n",
        "    images =()\n",
        "    labels=()\n",
        "    for image,label in zip(data['images'],data['GWlabels']):\n",
        "\n",
        "      img = nib.load('./'+image)\n",
        "      img = img.get_fdata()\n",
        "      temp= np.zeros(volume_shape)\n",
        "      temp[: img.shape[0], : img.shape[1], : img.shape[2]] = img\n",
        "      temp = np.array(temp)\n",
        "      image_data = (temp - temp.mean()) / temp.std()\n",
        "      sub_temp = CubeDivider(torch.tensor(image_data),self.coor_factor)\n",
        "      images = images+(sub_temp.divide_into_sub_cubes(),)\n",
        "\n",
        "      lab = nib.load('./'+label)\n",
        "      lab = lab.get_fdata()\n",
        "      temp= np.zeros(volume_shape)\n",
        "      temp[: lab.shape[0], : lab.shape[1], : lab.shape[2]] = lab\n",
        "      temp = np.array(temp)\n",
        "      sub_temp = CubeDivider(torch.tensor(temp),self.coor_factor)\n",
        "      labels = labels+(sub_temp.divide_into_sub_cubes(),)\n",
        "\n",
        "    images = torch.stack(images)\n",
        "    labels = torch.stack(labels)\n",
        "    images = images.reshape(-1,1,int(volume_shape[0]/self.coor_factor),int(volume_shape[1]/self.coor_factor),int(volume_shape[2]/self.coor_factor)).float()\n",
        "    labels = labels.reshape(-1,1,int(volume_shape[0]/self.coor_factor),int(volume_shape[1]/self.coor_factor),int(volume_shape[2]/self.coor_factor))\n",
        "    new_labels = ()\n",
        "    for temp in labels:\n",
        "      new_temp = ()\n",
        "      for i in [0,1,2]:\n",
        "        new_temp=new_temp+ (torch.mul(torch.tensor(np.asarray(temp == i, dtype=np.float64)),1),)\n",
        "      new_temp = torch.stack(new_temp)\n",
        "      new_labels = new_labels + (new_temp,)\n",
        "    labels = torch.stack(new_labels)\n",
        "    labels = labels.reshape(-1,3,int(volume_shape[0]/self.coor_factor),int(volume_shape[1]/self.coor_factor),int(volume_shape[2]/self.coor_factor))\n",
        "    dataset = torch.utils.data.TensorDataset(images, labels)\n",
        "    return DataLoader(dataset, batch_size=self.batch_size, shuffle=True)"
      ]
    },
    {
      "cell_type": "markdown",
      "metadata": {
        "id": "cuUNlPH_qWeG"
      },
      "source": [
        "#Pytorch training"
      ]
    },
    {
      "cell_type": "markdown",
      "source": [
        "A common metric for assessing the similarity between two sets or segmentations is dice score. With a value ranging from 0 to 1, it calculates the amount of overlap between the predicted and ground truth labels. An exact overlap is represented by a Dice score of 1, while no overlap is represented by a score of 0. By using the fudge factor, division by zero is avoided."
      ],
      "metadata": {
        "id": "n1MB5aTwE26e"
      }
    },
    {
      "cell_type": "code",
      "execution_count": null,
      "metadata": {
        "id": "xu4EeuURrNlt"
      },
      "outputs": [],
      "source": [
        "import numpy as np\n",
        "import torch\n",
        "\n",
        "\n",
        "def faster_dice(x, y, labels, fudge_factor=1e-8):\n",
        "    \"\"\"Faster PyTorch implementation of Dice scores.\n",
        "    :param x: input label map as torch.Tensor\n",
        "    :param y: input label map as torch.Tensor of the same size as x\n",
        "    :param labels: list of labels to evaluate on\n",
        "    :param fudge_factor: an epsilon value to avoid division by zero\n",
        "    :return: pytorch Tensor with Dice scores in the same order as labels.\n",
        "    \"\"\"\n",
        "\n",
        "    assert x.shape == y.shape, \"both inputs should have same size, had {} and {}\".format(\n",
        "        x.shape, y.shape\n",
        "    )\n",
        "\n",
        "    if len(labels) > 1:\n",
        "\n",
        "        dice_score = torch.zeros(len(labels))\n",
        "        for label in labels:\n",
        "            x_label = x == label\n",
        "            y_label = y == label\n",
        "            xy_label = (x_label & y_label).sum()\n",
        "            dice_score[label] = (\n",
        "                2 * xy_label / (x_label.sum() + y_label.sum() + fudge_factor)\n",
        "            )\n",
        "\n",
        "    else:\n",
        "        dice_score = dice(x == labels[0], y == labels[0], fudge_factor=fudge_factor)\n",
        "\n",
        "    return dice_score\n",
        "\n",
        "\n",
        "def dice(x, y, fudge_factor=1e-8):\n",
        "    \"\"\"Implementation of dice scores ofr 0/1 numy array\"\"\"\n",
        "    return 2 * torch.sum(x * y) / (torch.sum(x) + torch.sum(y) + fudge_factor)"
      ]
    },
    {
      "cell_type": "markdown",
      "source": [
        "* The trainer class is responsible for training a neural network model for image segmentation.\n",
        "* It takes parameters such as the number of input channels, number of output classes, data loaders for training and validation, subvolume shape, number of epochs, path to the model checkpoint file, and learning rate.\n",
        "* The constructor initializes the model, criterion (**CrossEntropyLoss**), optimizer (**RMSprop**), and other class variables.\n",
        "* The train method trains the model for the specified number of epochs.\n",
        "Within each epoch, it iterates over the training data, computes the loss and dice scores, performs backpropagation, and updates the model's parameters.\n",
        "* After the training loop, it evaluates the model on the validation data, computes the loss and dice scores, and prints the training and validation metrics for each epoch.\n",
        "* The **faster_dice** function is used to calculate the dice scores."
      ],
      "metadata": {
        "id": "XsQs-uPFFO9j"
      }
    },
    {
      "cell_type": "code",
      "execution_count": null,
      "metadata": {
        "id": "G7I-kcMMqWL4"
      },
      "outputs": [],
      "source": [
        "from torch.nn import functional as F\n",
        "device = torch.device(\"cuda\" if torch.cuda.is_available() else \"cpu\")\n",
        "class trainer:\n",
        "  def __init__(self,n_channels, n_classes, trainloader, valloader, subvol_shape, epoches,modelpth,lrate=0.0007):\n",
        "    self.n_channels = n_channels  # Number of input channels\n",
        "    self.n_classes = n_classes # Number of output classes\n",
        "    self.model = enMesh_checkpoint(self.n_channels, self.n_classes).to(device, dtype=torch.float32)\n",
        "    self.criterion = nn.CrossEntropyLoss()\n",
        "    self.lrate = lrate\n",
        "    self.trainloader = trainloader\n",
        "    self.valloader = valloader\n",
        "    self.subvol_shape = subvol_shape\n",
        "    self.epoches = epoches\n",
        "    self.modelpth = modelpth\n",
        "    self.optimizer = torch.optim.RMSprop(self.model.parameters(), lr=self.lrate)\n",
        "\n",
        "\n",
        "  def train(self, num_epoches):\n",
        "    try:\n",
        "      self.model.load_state_dict(torch.load(self.modelpth))\n",
        "    except:\n",
        "      print('No valid pretained model.pth file mentioned')\n",
        "    epoch =0\n",
        "    train_loss = 0.0\n",
        "    train_dice = 0.0\n",
        "    val_loss = 0.0\n",
        "    val_dice = 0.0\n",
        "    while epoch != num_epoches :\n",
        "\n",
        "        self.model.train()\n",
        "        train_loss = 0.0\n",
        "        for images, labels in self.trainloader:\n",
        "          if 1 in torch.argmax(torch.squeeze(labels),0) or 2 in torch.argmax(torch.squeeze(labels),0):\n",
        "            images = images.to(device, dtype=torch.float32)\n",
        "            labels = labels.to(device, dtype=torch.float32)\n",
        "            self.optimizer.zero_grad()\n",
        "            outputs = self.model(images)\n",
        "            loss=self.criterion(outputs, labels)\n",
        "            train_loss += loss.item()\n",
        "            dice_scores = faster_dice(torch.argmax(torch.squeeze(outputs),0), torch.argmax(torch.squeeze(labels),0), labels=[0, 1, 2])  # Specify the labels to evaluate on\n",
        "            train_dice += dice_scores.mean().item()  # Take the mean Dice score\n",
        "            loss.backward()\n",
        "            self.optimizer.step()\n",
        "\n",
        "        self.model.eval()\n",
        "        val_loss = 0.0\n",
        "        val_dice = 0.0\n",
        "        with torch.no_grad():\n",
        "            for images, labels in self.valloader:\n",
        "                images = images.to(device, dtype=torch.float32)\n",
        "                labels = labels.to(device, dtype=torch.float32)\n",
        "                outputs = self.model(images)\n",
        "                loss = self.criterion(outputs, labels)\n",
        "                val_loss += loss.item()\n",
        "                dice_scores = faster_dice(torch.argmax(torch.squeeze(outputs),0), torch.argmax(torch.squeeze(labels),0), labels=[0, 1, 2])\n",
        "                val_dice += dice_scores.mean().item()\n",
        "\n",
        "\n",
        "        train_loss /= len(self.trainloader)\n",
        "        train_dice /= len(self.trainloader)\n",
        "        val_loss /= len(self.valloader)\n",
        "        val_dice /= len(self.valloader)\n",
        "\n",
        "        print(f\"Epoch {epoch+1} - Train Loss: {train_loss:.4f} - Train Dice: {train_dice:.4f} - Val Loss: {val_loss:.4f} - Val Dice: {val_dice:.4f}\")\n",
        "        epoch = epoch+1"
      ]
    },
    {
      "cell_type": "markdown",
      "source": [
        "# Training Cycle : subvolume (256,256,256)"
      ],
      "metadata": {
        "id": "83o2ydQ690xt"
      }
    },
    {
      "cell_type": "code",
      "execution_count": null,
      "metadata": {
        "colab": {
          "base_uri": "https://localhost:8080/"
        },
        "id": "xZbLNvZFHCxh",
        "outputId": "bff5c19e-9703-4c73-b793-78883cdd1b88"
      },
      "outputs": [
        {
          "output_type": "stream",
          "name": "stdout",
          "text": [
            "No valid pretained model.pth file mentioned\n",
            "Epoch 1 - Train Loss: 0.8309 - Train Dice: 0.0376 - Val Loss: 0.4705 - Val Dice: 0.3565\n",
            "Epoch 2 - Train Loss: 0.5177 - Train Dice: 0.0336 - Val Loss: 0.4435 - Val Dice: 0.3407\n",
            "Epoch 3 - Train Loss: 0.4505 - Train Dice: 0.0321 - Val Loss: 0.3893 - Val Dice: 0.3237\n",
            "Epoch 4 - Train Loss: 0.4134 - Train Dice: 0.0321 - Val Loss: 0.3640 - Val Dice: 0.3241\n",
            "Epoch 5 - Train Loss: 0.3881 - Train Dice: 0.0321 - Val Loss: 0.3453 - Val Dice: 0.3245\n",
            "Epoch 6 - Train Loss: 0.3654 - Train Dice: 0.0321 - Val Loss: 0.3269 - Val Dice: 0.3247\n",
            "Epoch 7 - Train Loss: 0.3448 - Train Dice: 0.0321 - Val Loss: 0.3050 - Val Dice: 0.3246\n",
            "Epoch 8 - Train Loss: 0.3243 - Train Dice: 0.0320 - Val Loss: 0.2942 - Val Dice: 0.3245\n",
            "Epoch 9 - Train Loss: 0.3088 - Train Dice: 0.0322 - Val Loss: 0.2750 - Val Dice: 0.3247\n",
            "Epoch 10 - Train Loss: 0.2928 - Train Dice: 0.0430 - Val Loss: 0.2727 - Val Dice: 0.4707\n",
            "Epoch 11 - Train Loss: 0.2786 - Train Dice: 0.0323 - Val Loss: 0.2595 - Val Dice: 0.4667\n",
            "Epoch 12 - Train Loss: 0.2676 - Train Dice: 0.0511 - Val Loss: 0.2454 - Val Dice: 0.4649\n",
            "Epoch 13 - Train Loss: 0.2575 - Train Dice: 0.0319 - Val Loss: 0.2355 - Val Dice: 0.4766\n",
            "Epoch 14 - Train Loss: 0.2468 - Train Dice: 0.0354 - Val Loss: 0.2141 - Val Dice: 0.4688\n",
            "Epoch 15 - Train Loss: 0.2395 - Train Dice: 0.0516 - Val Loss: 0.2252 - Val Dice: 0.4641\n",
            "Epoch 16 - Train Loss: 0.2336 - Train Dice: 0.0494 - Val Loss: 0.2079 - Val Dice: 0.4583\n",
            "Epoch 17 - Train Loss: 0.2248 - Train Dice: 0.0325 - Val Loss: 0.2024 - Val Dice: 0.4787\n",
            "Epoch 18 - Train Loss: 0.2176 - Train Dice: 0.0350 - Val Loss: 0.1893 - Val Dice: 0.4707\n",
            "Epoch 19 - Train Loss: 0.2118 - Train Dice: 0.0327 - Val Loss: 0.1830 - Val Dice: 0.4120\n",
            "Epoch 20 - Train Loss: 0.2052 - Train Dice: 0.0472 - Val Loss: 0.1946 - Val Dice: 0.4681\n"
          ]
        }
      ],
      "source": [
        "traindata = DataLoaderClass('./data/dataset_train.csv',1,1).dataloader()\n",
        "valdata = DataLoaderClass('./data/dataset_valid.csv',1,1).dataloader()\n",
        "meshnet = trainer(1,3,traindata, valdata, [256,256,256], 20,'',0.0007)\n",
        "meshnet.train(20)\n",
        "torch.save(meshnet.model.state_dict(), 'meshnet.pth')"
      ]
    },
    {
      "cell_type": "code",
      "source": [
        "traindata=''\n",
        "array=''\n",
        "i=''\n",
        "array1=''\n",
        "images =''\n",
        "img=''\n",
        "prediciton=''\n",
        "predicted=''\n",
        "temp=''\n",
        "labels=''\n",
        "pred_peek=''\n",
        "volume_shape=''\n",
        "num_cubes=''\n",
        "nifi_image=''\n",
        "criterion=''\n",
        "valdata=''\n",
        "loaders=''\n",
        "divider=''\n",
        "sub_cubes=''\n",
        "meshnet=''\n",
        "model = ''\n",
        "logdir=''\n",
        "optimizer=''\n",
        "scheduler=''\n",
        "runner=''\n",
        "tensor=''\n",
        "reconstructed_tensor=''\n",
        "import gc\n",
        "torch.cuda.empty_cache()\n",
        "gc.collect()"
      ],
      "metadata": {
        "id": "-UPJryQI-Oj_"
      },
      "execution_count": null,
      "outputs": []
    },
    {
      "cell_type": "markdown",
      "source": [
        "#Model evaluation on inference dataset"
      ],
      "metadata": {
        "id": "kAxwlh3M8ULH"
      }
    },
    {
      "cell_type": "code",
      "source": [
        "from torch.nn import functional as F\n",
        "device = torch.device(\"cuda\" if torch.cuda.is_available() else \"cpu\")\n",
        "class evaluation:\n",
        "  def __init__(self, modelpath, inferloader):\n",
        "    self.inferloader = inferloader\n",
        "    self.modelpath = modelpath\n",
        "    self.model = enMesh_checkpoint(1, 3).to(device, dtype=torch.float32)\n",
        "    self.criterion = nn.CrossEntropyLoss()\n",
        "\n",
        "  def eval(self):\n",
        "    try:\n",
        "      self.model.load_state_dict(torch.load(self.modelpath))\n",
        "      self.model.eval()\n",
        "      infer_loss = 0.0\n",
        "      infer_dice = 0.0\n",
        "      with torch.no_grad():\n",
        "        for images, labels in self.inferloader:\n",
        "                images = images.to(device, dtype=torch.float32)\n",
        "                labels = labels.to(device, dtype=torch.float32)\n",
        "                outputs = self.model(images)\n",
        "                loss = self.criterion(outputs, labels)\n",
        "                infer_loss += loss.item()\n",
        "                dice_scores = faster_dice(torch.argmax(torch.squeeze(outputs),0), torch.argmax(torch.squeeze(labels),0), labels=[0, 1, 2])\n",
        "                infer_dice += dice_scores.mean().item()\n",
        "      infer_loss /= len(self.inferloader)\n",
        "      infer_dice /= len(self.inferloader)\n",
        "      print('Loss :',infer_loss,'  Dice :',infer_dice)\n",
        "    except Exception as e:\n",
        "      print('No valid pretained model.pth file mentioned',e)\n"
      ],
      "metadata": {
        "id": "N5WC0gqm3mhm"
      },
      "execution_count": null,
      "outputs": []
    },
    {
      "cell_type": "code",
      "source": [
        "inferdata = DataLoaderClass('./data/dataset_infer.csv',1,1).dataloader()\n",
        "modeval=evaluation('meshnet.pth',inferdata)\n",
        "modeval.eval()"
      ],
      "metadata": {
        "colab": {
          "base_uri": "https://localhost:8080/"
        },
        "id": "sTVsT5gQ8Gpu",
        "outputId": "4a95a214-6183-41e7-8679-cc0321e74e07"
      },
      "execution_count": null,
      "outputs": [
        {
          "output_type": "stream",
          "name": "stdout",
          "text": [
            "Loss : 0.07094129671653111   Dice : 0.803289512793223\n"
          ]
        }
      ]
    },
    {
      "cell_type": "markdown",
      "metadata": {
        "id": "224UKySu240T"
      },
      "source": [
        "#PLOT Predicitons"
      ]
    },
    {
      "cell_type": "code",
      "execution_count": null,
      "metadata": {
        "id": "F5eVPaTZ27iQ"
      },
      "outputs": [],
      "source": [
        "inferdata = DataLoaderClass('./data/dataset_infer.csv',1,1).dataloader()"
      ]
    },
    {
      "cell_type": "markdown",
      "source": [
        "GroundTruth Label"
      ],
      "metadata": {
        "id": "dd8nh9plNrK_"
      }
    },
    {
      "cell_type": "code",
      "execution_count": null,
      "metadata": {
        "colab": {
          "base_uri": "https://localhost:8080/",
          "height": 485,
          "referenced_widgets": [
            "a8d3771754fe4287856d7be6fe8049af",
            "33ef11c962ca475cbf1c1c06ec50d421",
            "574b999101644a2a8ec5e64eb5c178c0",
            "60d3f52ed8c248cc876c2ebc7623ebb1",
            "9c98f7d6758e4d9d8a724c7ad7ea3070",
            "43689c87d8524c7aa5f0aa607767e617",
            "8dc217d2ad7943dabe22098943830fa0",
            "1cfd63e9571e454c979d9bd543f3fafb",
            "2a07a91ea80a4e3a89ac08857592ba33",
            "2b17c0784d6a4048be3a4613d5d1c47c",
            "7e3a1d8e5bf44e15af5de4295788dad9",
            "a8274cc7d20a4affb3bb4405afdcfc4b",
            "eb80eff7d1704422a05210b15ad5b784"
          ]
        },
        "id": "-fLzOl4r2-Qe",
        "outputId": "e37ecabd-c76c-4f71-90a6-beac064049fd"
      },
      "outputs": [
        {
          "output_type": "display_data",
          "data": {
            "text/plain": [
              "interactive(children=(IntSlider(value=127, description='X', max=255), IntSlider(value=127, description='Y', ma…"
            ],
            "application/vnd.jupyter.widget-view+json": {
              "version_major": 2,
              "version_minor": 0,
              "model_id": "a8d3771754fe4287856d7be6fe8049af"
            }
          },
          "metadata": {}
        },
        {
          "output_type": "display_data",
          "data": {
            "text/plain": [
              "IntSlider(value=127, description='X', max=255)"
            ],
            "application/vnd.jupyter.widget-view+json": {
              "version_major": 2,
              "version_minor": 0,
              "model_id": "33ef11c962ca475cbf1c1c06ec50d421"
            }
          },
          "metadata": {}
        },
        {
          "output_type": "display_data",
          "data": {
            "text/plain": [
              "IntSlider(value=127, description='Y', max=255)"
            ],
            "application/vnd.jupyter.widget-view+json": {
              "version_major": 2,
              "version_minor": 0,
              "model_id": "574b999101644a2a8ec5e64eb5c178c0"
            }
          },
          "metadata": {}
        },
        {
          "output_type": "display_data",
          "data": {
            "text/plain": [
              "IntSlider(value=127, description='Z', max=255)"
            ],
            "application/vnd.jupyter.widget-view+json": {
              "version_major": 2,
              "version_minor": 0,
              "model_id": "60d3f52ed8c248cc876c2ebc7623ebb1"
            }
          },
          "metadata": {}
        }
      ],
      "source": [
        "prediciton = inferdata.dataset.tensors[1][0].reshape(-1,3,256,256,256)\n",
        "predicted = torch.argmax(torch.squeeze(prediciton),0)\n",
        "prediciton = predicted.reshape(256,256,256).numpy()\n",
        "array1 = prediciton.astype(np.uint16)\n",
        "nifi_image = nib.Nifti1Image(array1, affine=np.eye(4))  # Use identity affine matrix for simplicity\n",
        "pred_peek= peek_class_new(nifi_image,1)\n",
        "pred_peek.plots()"
      ]
    },
    {
      "cell_type": "markdown",
      "source": [
        "Label predicted"
      ],
      "metadata": {
        "id": "4vLKF3FQNvUV"
      }
    },
    {
      "cell_type": "code",
      "execution_count": null,
      "metadata": {
        "id": "fW0dHliJ3Dn_"
      },
      "outputs": [],
      "source": [
        "model = enMesh_checkpoint(n_channels=1, n_classes=3)\n",
        "model.load_state_dict(\n",
        "    torch.load(\"meshnet.pth\")\n",
        ")\n",
        "model.eval()"
      ]
    },
    {
      "cell_type": "code",
      "source": [
        "prediciton = model(inferdata.dataset.tensors[0][0].reshape(-1,1,256,256,256))\n",
        "predicted = torch.argmax(torch.squeeze(prediciton),0)\n",
        "prediciton = predicted.reshape(256,256,256).numpy()\n",
        "array = prediciton.astype(np.uint16)\n",
        "nifi_image = nib.Nifti1Image(array, affine=np.eye(4))  # Use identity affine matrix for simplicity\n",
        "pred_peek= peek_class_new(nifi_image,1)\n",
        "pred_peek.plots()"
      ],
      "metadata": {
        "colab": {
          "base_uri": "https://localhost:8080/",
          "height": 485,
          "referenced_widgets": [
            "88ec97e17123433f935dc8d3dbb21150",
            "4dae9e584ce44bbb88523a5901cf128f",
            "4f5aa1e0ec834f28955939587db2f217",
            "2488cd471c69464a9f735da760881d12",
            "f169a03588b944ff96d41c49e7020aa6",
            "8e2075cc31524b7690785bc6114e9dfe",
            "93301398a77f411f8480442915a886d8",
            "b532999955da4c80bcc1db4c542e8263",
            "4e094ca5df8c4cfe8380857a18b2e9c7",
            "e19580da5a284aedaf3294de908e273d",
            "43fd0cd1798045759bd8fc1d946b4b67",
            "010e62884eac4e79a98089f8156b1e05",
            "5bce3c8d1bb1440e801c0bb7ea08816c"
          ]
        },
        "id": "bkwOp633Ct8Z",
        "outputId": "79ddd1d2-7068-4df8-cd25-24a9109bd9ac"
      },
      "execution_count": null,
      "outputs": [
        {
          "output_type": "display_data",
          "data": {
            "text/plain": [
              "interactive(children=(IntSlider(value=127, description='X', max=255), IntSlider(value=127, description='Y', ma…"
            ],
            "application/vnd.jupyter.widget-view+json": {
              "version_major": 2,
              "version_minor": 0,
              "model_id": "88ec97e17123433f935dc8d3dbb21150"
            }
          },
          "metadata": {}
        },
        {
          "output_type": "display_data",
          "data": {
            "text/plain": [
              "IntSlider(value=127, description='X', max=255)"
            ],
            "application/vnd.jupyter.widget-view+json": {
              "version_major": 2,
              "version_minor": 0,
              "model_id": "4dae9e584ce44bbb88523a5901cf128f"
            }
          },
          "metadata": {}
        },
        {
          "output_type": "display_data",
          "data": {
            "text/plain": [
              "IntSlider(value=127, description='Y', max=255)"
            ],
            "application/vnd.jupyter.widget-view+json": {
              "version_major": 2,
              "version_minor": 0,
              "model_id": "4f5aa1e0ec834f28955939587db2f217"
            }
          },
          "metadata": {}
        },
        {
          "output_type": "display_data",
          "data": {
            "text/plain": [
              "IntSlider(value=127, description='Z', max=255)"
            ],
            "application/vnd.jupyter.widget-view+json": {
              "version_major": 2,
              "version_minor": 0,
              "model_id": "2488cd471c69464a9f735da760881d12"
            }
          },
          "metadata": {}
        }
      ]
    }
  ],
  "metadata": {
    "accelerator": "GPU",
    "colab": {
      "provenance": [],
      "machine_shape": "hm",
      "gpuType": "T4",
      "collapsed_sections": [
        "Oxp9pcTthFZW",
        "5VYNwjgLSwLd",
        "slH_hecyS9J8",
        "GmLKx_pOSoLy",
        "OvlSnfs38UAS",
        "UuM8jtHKQOfz",
        "cuUNlPH_qWeG",
        "83o2ydQ690xt",
        "kAxwlh3M8ULH",
        "224UKySu240T"
      ]
    },
    "kernelspec": {
      "display_name": "Python 3",
      "name": "python3"
    },
    "language_info": {
      "name": "python"
    },
    "widgets": {
      "application/vnd.jupyter.widget-state+json": {
        "02fd9c34cb794160ab5db108f6090586": {
          "model_module": "@jupyter-widgets/controls",
          "model_module_version": "1.5.0",
          "model_name": "IntSliderModel",
          "state": {
            "_dom_classes": [],
            "_model_module": "@jupyter-widgets/controls",
            "_model_module_version": "1.5.0",
            "_model_name": "IntSliderModel",
            "_view_count": null,
            "_view_module": "@jupyter-widgets/controls",
            "_view_module_version": "1.5.0",
            "_view_name": "IntSliderView",
            "continuous_update": true,
            "description": "Y",
            "description_tooltip": null,
            "disabled": false,
            "layout": "IPY_MODEL_408136306c0b44ea93818a06aa8fd872",
            "max": 255,
            "min": 0,
            "orientation": "horizontal",
            "readout": true,
            "readout_format": "d",
            "step": 1,
            "style": "IPY_MODEL_d5a4b8c279854b65bdb81633111730f7",
            "value": 127
          }
        },
        "0c26e9a3542d44168e7f66688a948de5": {
          "model_module": "@jupyter-widgets/output",
          "model_module_version": "1.0.0",
          "model_name": "OutputModel",
          "state": {
            "_dom_classes": [],
            "_model_module": "@jupyter-widgets/output",
            "_model_module_version": "1.0.0",
            "_model_name": "OutputModel",
            "_view_count": null,
            "_view_module": "@jupyter-widgets/output",
            "_view_module_version": "1.0.0",
            "_view_name": "OutputView",
            "layout": "IPY_MODEL_1e3183186e9d4cf3adba384d1528f3a2",
            "msg_id": "",
            "outputs": [
              {
                "data": {
                  "image/png": "iVBORw0KGgoAAAANSUhEUgAAAqgAAAEYCAYAAACQmgS0AAAAOXRFWHRTb2Z0d2FyZQBNYXRwbG90bGliIHZlcnNpb24zLjcuMSwgaHR0cHM6Ly9tYXRwbG90bGliLm9yZy/bCgiHAAAACXBIWXMAAA9hAAAPYQGoP6dpAAAuwklEQVR4nO3de4xdVd3w8d+UKZxSpNzSh6BSECqGoEJAhYe+gkEDjkTrQGjoAYrIH0oBDdQAaikhNnmRBMItShCBhsGMQAUvgwo8LVoq1eKTFyNNECwgNnVoLdHSDqV0v3/UPaxZs9baa+3LOWvv8/0kJ9Bz9tl7nzN77fU76/JbfSKSCAAAABCJKd0+AQAAAEBFgAoAAICoEKACAAAgKgSoAAAAiAoBKgAAAKJCgAoAAICoEKACAAAgKgSoAAAAiAoBKgAAAKJCgAoAAICoEKACAAAgKgSoAAAAiAoBKgAAAKJCgAoAAICoEKACAAAgKgSoAAAAiAoBKgAAAKJCgAoAAICoEKACAAAgKgSoAAAAiAoBKgAAAKJCgAoAAICoEKACAAAgKgSoAAAAiAoBKgAAAKJCgAoAAICoEKACAAAgKgSoAAAAiAoBKgAAAKJCgAoAAICoEKACAAAgKgSoAAAAiAoBKgAAAKJCgAoAAICoEKACAAAgKgSoAAAAiAoBKgAAAKJCgAoAAICoEKA2WKvVklar1e3TAHoC5Q3oHMpb8xGgNlSr1ZJVq1bJqlWrKMRAxShvQOdQ3noDASoAAACiEk2AumDBAkmSRI4//vhunwowfj2mj7fffltee+01ueeee+SQQw7p9ukBqBHqN8SkLvVbf7dPAIjZ4sWLZf369dJqteTEE0+UCy+8UObMmSPHHHOMvPXWW90+PQAAcom9fiNABRwee+wxefbZZ0VE5O6775ZNmzbJ1VdfLZ///OflwQcf7PLZAQCQT+z1WzRd/EAd/Pa3vxURkSOOOKLLZwIAQHliq98IUIEAhx12mIiIbNmypbsnAgBAiWKr3+jiBxxmzJghBx54oLRaLfnEJz4hS5YskbGxMfn5z3/e7VMDACC32Os3AlTA4cknn5zw7/Xr18t5550nf//737t0RgAAFBd7/UaACjhccskl8sILL8iMGTPkoosukk9+8pNRzG4EAKCI2Os3AlTA4fe///34LMdHHnlEVq1aJQ888IAcddRR8uabb3b57AAAyCf2+o0AFfC0a9cuueaaa2TlypVy6aWXyg033NDtUwKAICMjIxP+PTAwYHxel26HZoqxfmMWPxDgqaeekjVr1sjXv/512Wuvvbp9OgDgzRSEjoyMZAantvea9uOzL8QptvotuhbUiy66SM4444xJz99yyy2ydevWLpwRMNGNN94oDz30kFx44YVy5513dvt0ANRELPXb0NCQtNvtSc/ZpNuOjIzQktpwMdVv0QWol1xyifH5e++9lwAVUVi+fLm8+OKLsmjRIrnrrrtk165d3T4lADUQQ/2WBqKmINX1Ht9tUW8x1W/RdPHfd9990tfXZ33EkvYAvSG9HtMB5KokSWT27Nkye/ZsglMAmWKo31xd767W06x9qvsdGhqSoaGhQkMJUL261G/RBKgAAKB8ZQeGerBpC0g7cS5orui6+AEAQLis4E9vKc3bcqrvw9b9bxuzylhW+KAFFQCAhkm724tot9vjD9sx1P/qzwNFEKACANAgaoCYN1g0BaVqq2fWfl2v03oKH3TxAwDQYEVm4duCyXa77RUI2xYGALLQggoAQMOFtqSqM/JtY1tDg149OGXCFFxoQQUAoIY6EeClga1tYpPekmrbhx7Mpuee/peWVehoQQUAoCHKmBhlk7am+h7DNlGLllP4oAUVAICaCQkUQ7kmSKXBZZFjDwwMTNoPLanQ0YIKAEANVbH8qCnwVIPGPAFku932fh+tq0jRggoAQM2krZB6kFpW8n1VmYn1fQJQEvlDhAAVAIBaU7vffSYtdYMemMZ4jogLXfwAANSAnvJpYGDAOrO+iu7/9ByKHMs2cYqAFTpaUAEAiJwaGKpd4GVNLnIFmeqxigSXvtulwxfo5u9tBKgAANREmlNUb8lU/52nNVLPVZruI32urODUFAirx1aDUr21GL2FABUAgIiZxm92aga/zhTEqs/7BrH6uNkstKj2HsagAgAQKdus9zToU8d0lh3A6YFjmi4qPU46/lTdzjdwTsfTEnTChgAVAIAImbq4q5r8pNODUX3Mq35etglbuqw8q1nboncQoAIAEBlTy6keyJnylZZBD4L17AGm/9e3cVFbfW3jTNUWYtNx0XyMQQUAoEY6kes0Kxh2MY1NdaGrHya0oAIAEBF1nXo9MLR19afblhW4ulor1bGnWQGo63xsLcDqsdX9E8T2FgLUnOhqAACUrY51S1ag6hM0m4JT2zboDQSoOfgWJPUBAIAvV97QbrQk2tJLdRr1ae9gDGqgvIWjrNU+AACoki3PqprrtKxcrOl+bEGvaTzr8uXLCx8X8aMFtaDQgJVffwAAk5Du7U42dmSlgSo69rXspVLRDASoBrabhGvguo1pW4JUAECoTtYdBI3otp7v4s8KRvXkxLYZlSbqtqZ1jenuBwC46F3cpmVPy2DqZlePVfQ4ZQwJ6NQiBYgDLagZbAGsT0GhMAEAfKmNFqb6o8w0Uqr0WKFLloakmwJC9XSAGvpL1DWrEgCAovQg1Raoqv8tk3pMWy9f1QGpbd8MJ+gtPRughgSnRcb92Aoa3fsAABO9fnAFqVUdP6uO0rfRhyLkPWe1NZfGoN7W82NQiwwE9w0yXSk0bOsQAwB6izr3QZ//UJSaIkpnmiORnof6ftsYVVv9Frokqyu1FXpPT7agVtEiqssKNvMk8Cf5PwA0k3pPNzVcFGlR9H2fablU25CDrODUduwyWn4HBwcL7wPx6+kWVNsvSVuBCl0TeGBgIFcgafr1qt8M0tmctLoCQL2Z6gm9NTVvo4Ren/mM79S30esZ3+BU3V9oIOuq21qtltdxUW+ND1DzBHFl/MKz3UxCUm2k5266GaT7IUgFgHpL7/OmILFTvWW+3fH6eYYeI0vW0Aa9vktXlaIebJ7GdvGr3eBlF/CiBaGMCVmMywGAZnGtd18kxVRZ6amqHh5HkAlV41pQXYn3TTMj8xTaMiY2+fxSdqX4AAA0j1ovlRFUhk4EVlNM2eq6vHWnL+ZYQKRhLai+F3UZQaV6zKKFyaeg27II8IsTAOovK0l/VUJaV8s4x6xj5a1PCWqbp1EBqq6KVTd80kVVKSuBMgCgPtRGjk4Hqbb6zFS/mM6x06j3ektjuvhdswpdE4pcueFCuAqObwup6YZUZEA6ACBOWZOARkZGSqmfQgLddrvtrMvUOtQ26991rurQhbwBOC2lvaPRLaguPit16Gx56GwpOESK3VgoiACykBu5fnz+Vp1oLSzSSmt7b5F9ur6XIqm2UE+NC1CrWsM3T6ErckzbzSndJwUVaCbfBTlMr3NfaBY1SX9V0oaXMo/hsz9TlgIXn2ub679ZGhOg+ozdGRoaKnVpUdckpaLBKQUN6D1llHvuHfXXrVZxvT7LmseRFYT6dv3rx8s6rrqS1ODgIGNTG6rWAaqrELsKThmFXh0nZDt+nl+kphsEgOZzpchzPcc9olm6EZTaGlvKblnVlX3tEqg2S60DVF3IuNIisyZdMxx1IQVcX0Ejb45WWlCA7lm+fPmkbvoyy6R6f/C9R3BfiEeev0O3foTodZ0tiHW9XkQVmXhQH7UNUG1jr7IKiHrB6+/xmX2oH1N9Xq8E1F+lPkGq+v68hZJfkED18gR8rqBVDzptFbN+TNsPYJ/gmMlV9RCaaD/k/Vn1hS2LjOl9eYemhdZ1tnOm7mue2gaoKT3g9C0ged6TMr3HVThCB7pXmfIKQHG+ZcxnPJ2N637hStNjS7XnQpBaX+r15XOdhdYPttzb6tCAbtY5eo8FmqO2Aaoe9OW5Kauv56lA9PfoLbGhhca3IjPtn8IJxC2rfIckTfc9VugwAHSOTwt5Wd3bek9fFQGl6fqpont+ZGREli9fHnQeqKfaBqgqNUgNvSnnad3weU/V42YYlwN0l62SV2cY5xUyMcVn7H0nl85EtiqDU5/3hSwLbmshVRtFCApRhVoFqN1uJQwNZvXtO7HsKjcKwE+VPQ+24NVnQkmeSSdldbNy/6hWbN9vVWnN8tSVRV5HM9UqQE2llUroJKRuqXImos9+1TE6AKqXVdZ8gsk8AadrlrXPjGx0jmsMcRX1hW2feesF0/VjO/cyPo/v98J13Rz93T6BUOkF2m63JwWpseQGbLfbHTm+bdlVAlHALmSCoy91TFz6/7a1yl3H04NJ39Vz1H2m9wDfyjzdNuYf+U1T1YqH6n5MxzDtv4y/e56x1UWO1d/fL5dddtmk1whOm6V2AWoqLYBqqig1OHNNniqLqWVCrVjKPrbrRkLBBLL5BKehq80VmRyStZSpS+hMft/AvKpJNL1Ob0DR/3ZVBHI+wSfd54hVbQLUrJu1qzW1GzoVnOoVSbc/NxCrrBWZygrKhoeHg85F7RUynYftXmK7J+g/jvO0jlbxvWCiTgSGvdwy7psbHfGqTYBqot/Yba2pnTp+J1DYgGpktRxWMTSgjHGB6nnY3mcbbqBvY0v6z30nXllDynyGnFX1N1YXkujkNURDTTPUIkAN7eoyrbaibltHpiENIhREIC/9vqHnMXbdU8o6vs63Eu/VVrGmyzs21RaEdqJ+UCcqDw0N5TpmWdczP6aapRYBqg/br/+m3sjz3AQouMC7XBOX2u125o9AdViRus28efO8fgi7WrZ8x9P7tJ7qx0ScqvzbZAW+eesG/drvxvU1PDws8+bNG/83jTbN0SciSbdPwsU3eXGVy4j6dI/lOW7Rwpz1/pkzZ4qIyJw5c2RsbKzQsYCmS+816Y9dPUC1tbiKiLRaLVm1apWIiIyOjo5vn7K9Tx0v6tomZdqnaduQDAL6mFU1IO5G92xTmeoy/R7u83d30VeM8lX07xuS+F+XVY/ZXk/rt9tuu0127tzJJOIGakwLapayVuUIGXfaydWkXOejpsChoAK72Wbfq8Gpz/urXDYyZN+mz5MVYLoyENDaWq6s1sY6D9sKHQfti2uwt/VEgFrFknFZwaHPoPQyA1jf2ZrMbAT8U0P55iEt8/iucmzr7vcNTusY/DRJ1uTdbvx9OlkXVJkjXK0D+ZHVDLUKUIt2z1fFVDB8dCqhvwmBKnpR0fXOy8gtmdV1qx4jHefqmvjp+5nKWsiEe0f5qsg6o6681KnAt8rj+LQwlzEcD/GIOkAtcrF3OvDLe7wyg1S1YhseHh5faWN4eDhzjA7QdD6BnE/3vul96so2eh7UPD0sOt9W0KwMBHnuNbZjM2M6Hz0YrfI7NI0n1oX+HcvMGFBGnZROkMqzchviFnWAGqKKxPi+Y9Fikn4P/f2T/7S9nLQZvS2Wru08LWV6MKPuI++4xaxVjGz5UE3P1e0eGYNOfWe+93v17+iTlrHISo0hjTJ6b0JqcHBwfFKifk5ojindPoHYVVGxldXVBiCb73jTKiq4sltyQrrXbStSmc4pa6W6WAL8Jkt/fKiPUGnDSp5reWRkZNL7fGfY5/mBVKS8qRN/0VyNaUEtk15wymwl4EYPVCsriNMDtfTfpsUwfPKRuipaUwuQT6uUK4C2Levsmjjl+iGcfkbTrPKs+xWtp/mY6pQqxvaWkXUmbxqosviMK+3EypHovNoEqEVbGot0SVQl9FzKHK9KxYKmCqmsTGnkQgK1KtLNZZXz0Fn5rsUAfI6BajQpoOrU8DFbwK0G/Ezia47adPHnvfj1roQ6jlNRP4NP10i73Z6wskb6/3X87EBVfFLBpaqu7LJSS5W5QEjKNLZVbTX2aYFtUpDVaXm78asQU8OND30ioiqm7xXF1KYFVcSvBdFnLFXWfuqQQy20NTXmzwKUrZsVlO9Spyk1X6krnVS6Tco33Y6LT2uTPgQCxanfd8giCnll/e2yJs25xHJNMGGveaIOUG037NCxMnkv2rJvyGWle/FZo9tnP0CTVFFB5d1nFTmOy5qwVIcf4HhXN1o3bSuQxdhiPjw8PN5LSJDaLFEHqCL+48mybrZ5C5Y6cSKWC5+ZtYA97ZHI5BaqkLIS+sN0YGBAWq2WMe2NbbKTT9ARshKUa3+2tEGmz+lakQrV0L/zqib8xN4CXqQV1zQZMZb6GvlFH6CKFA/IXAm6fXK++QSpWfvJmsHrey6294VsH1OwDeTlCtx8KilXAn3Tak42+rEHBwdlbGzM2V2vz9jPSu8TugKWTyDiGlqQhftHMb7Lnfr+nfPkFfWRt66ostW33W4bx6DqPQPUc/VXi0lS6oD9kPyFpovTN0AM4Zs7ruxxPerncwW3g4OD3scFelneH4llHM+Xb9CSN5+mLc1Vikq/GN+8vCE/QkKuo1gmROUZkpe+R50E7EIvY73VIkBNuVo4RcwzUW1CZ8YWXbu62zcFn0H5QB35VEK2H3Ppa0XGqftwJex33YdCz0tvFbX9uM/7Y5x7R/nUVnv9uaZTs9OIuMupr1757npBrQLUVNFVKIooskxhKL37Rq9wbNuLTEzDwaobaCJbWQitoGzDAXzvMUNDQ9bypt+r0mPYAj3TD0nfLl9Xl30Z65QTnJbPlIc3ZHxy6GuxKhJU+ramon5qFaCGBKZlVFwh+1aPMTQ05Awkqz4H2/bkh0NTZF3/+o86kXJaZ8pkW9ayzHKqBzy24DQrab/pdbpPi8lbH/n8wAj5cVWmogF23glOdc91DrNaTJKy6VYhFJk8ADtkvFCZ58MSb+g1IatEmWb2dqq8mFL0uI6dFQSG5jbNWkHKlKjflCfaFDRwz4lT1YFaFeXHdL2V9QONBpl66xORpNsnkZcpPYf+fN71hW3vdSXONp2T735t5+Q6h6zsBjNnzhQRkdHRUev5AnUSmi5KxH/CoRrYmVqp9LHk+n7T8jZnzhzjLH71nEz7sJVnn/uFaXa2z5hT03cUco7cT8JlpQpzzcwvGnTmyf6QVceVkVHCdMysidGm+s20H9RXrVpQ9ZtikW4A3+19lkMMOY/QiQqmm1XefHYUVvSSMlqQ8qa4C5mprZ5nnuDU9G8TvfXLZ1JO3vGqyEdvAc3KptBrLdl03/eW2gSoakE0FUpbYu4qVnTJo+g5qJ/D1IprysWYJg5P8zICTZe30vbJS+kay6km6lcnSZlaI237yTMZKuvc1e2zllFlRbruiaGOilXeOpzrs/5qE6Bm8U2i31T6Z2+1WuP/n1aYFFg0VZGVo1RlrrZTRlonnU/uyLyf3RU86/cO7iX5+V6fTchF26m6V/9O6/L9wK1Ws/hF3p0lqD5SnbhAs37JVVkwupleC4iRbYZ5yEx4V8qnvEt/hganPhMuTatLpefnGhqg/3/RltJe61auWidbTztVhxQ9TtY1pi4+k/5/3oUpEK9GtKD6rimdR9lDBKq8OaSfeY/t2+Wwn/xEDhsYkKmbNsnYAQfI3844Q3718MNy+llnVXZ8oNNsEyV9hWxvK7vTReSPZ589Xt62tFry5pFHymMf+pCcfeGFQefjG5yagues9Hf6v02fJ73fmRKno3whP2SyXi+z9T9EVcPobEP19ti+Xf6fUt7+smuX3CkiN4vIm6WfBbqpNgGqmgJFZ1vPupeoweknrrpK9n3pJelLdidomLZpk8weGpL/euYZmS4UYtRXVveoPtTHllLJpt1uB626Nl1EVorI7KGh8fJ2wLZtMvjcc/KZbdtkzbx58s60adb3p/ct22pzWVlD0n3Yts/aX7pP9ftx/dinhapcvn8v9W9cxvcfy9wMF1M5f+jee+WmP/5xQv32PhG5vq9PvpAkcqpQvzWJd4CqjmnslrQpX18Zqd1uj6/kUsV59ve7vybXMdPzytpHHulx1e/jsJ/8ZELhTfUliez70kvyjf5++b8VnAvQKYODg9bV0QYHB43lUe0SzPO6Lj3+EQ88MCE4TU0RkX1fekl+N2+efPynPx1/fnh4eNK9wHaPUFfISc9vZGRkwrnq7/PZl77PVqtl/U717yKGeiCE7+TQTn8u1zWcUoNX9e9pOtfh4eHgBhpTnTQ8PDzpWgmp36pc1am/v18+9+c/y3tefFH6tNf6kkSOE6F+qwnfcumdB3Xt2rVFzgcd8uGBAdnTkhcuEZG3Z86UPzGGDCgF5S1uaU7aLNRv9UB5a4YTTjjBa7vaTZKC29RNm6yv9WW8DiAM5Q3oHMpbb/FuQe1W105WN0gq7ZrQu7983++z/5TejeE6pvo+03vz0ruI0uPc9OCDcsC2bcb3JCLydxGZXbNuOqBTXPcLU5nzLW8+96GQe4W+rWt7/f4k4ndfVN9n2t6039jE2sXvQ7/W9PrN9HoRtjquG/Vbelz9ujv1ggtkmiUIpX6rD99y6T1YI/ZE7zt37hSR3YXHZxB5aN7AdP8mru/G9T5VyLKMIpMrjPQ4/3PkkTL43HPGpvFdInKnxP+3BLoh6z5gSsDvW97UiUi2e496r9BzkGYl8c9aojJPVhP1Xtr0PJMx3xPVv7d6nurfxLeecbHtw6d+K2OCsj7R2XTcv51xhnHMt4iI9PXJnUkS9d8SYaIfTWy7EZpu2OqMWNd7RdxrT5dJn4WZdSw9Z2FoxfLYhz4kn9m2TfZ96SWRJBlvIt8lIv8ru1NxAHhX1troKVMi+z22b5d//ydrhlrepK9Pth5xhPyfG26QEW0Wv6tMu9a9N52T/nyeZVOzzkM/H1TD9fcqmoKqLK6y0olzePmLX5T/euaZSeUtEZF//6e8CakUGyPaADVrOVMbtaD4VjwmZRe20OTe6XtCE36/NXWqrLnhht15UH/9a5m6aZP8nTxxgFFWsGhLeJ+WxXemTTOWt23ttrz8xS86U0xVoYwf26b7TJNbT2Pg82MiT47fkAYOW+qpbi7MoH8GU3nb0mrJ/xx5pOy7ZEnHyxuqFW2AaqLmOLQl8RUx/5rLunGXFZAWKcyhuels38E706bJRx96aHxt8NHRUflvEflvoXIBQpjyUOpOP+ssabVaE8pbytUdr7eQ5m09LYvtHmhaEID7SHnyDN/Q31c2U2OJ6fky+dbB70ybJi/Nny///vrXRUTktttuk507d0qb4LRxahWg6lxBqqpTwamvImuFq/Isw0jlAoTLk9g8JNhQ+QanoT/CXUK79LmPVM91rfjUH2UGsOnf2nVOtqDWh2uIQNZY6ipzr6K7apdmSl1/WmTiyiZ5xpXmCU59921a9zrrpu7ad+wrfwB1YyuPpufLbslK72XqPSxrpSgXn/XPfe93piAZ1Qi51lxM9U3TpGWlDhkkUFwtWlB9JgCoS6H6TkjyZZpFmzWBSb3pqF16WTf8tMKy3aBsvzT1z+pKI0PrB2Bnm7ku8m5Lql4O9fIWcu9Rg1TfgNAVwNhae9P3lDFBlPtHNXxaEU3KqOtsmWSyWkbz9hRUgeuyWWoRoKZshVCduR+yr5D3mC78Is+5pOeVZ8hC+lp/f79cdtllQccFMJGpe1ENUlNqeUtzQ5oqcltl7zPW1OeHqWkb3wmatm5+WlG7x1R3FMnOkCXrGjNdJ90KRtF8teviN6m6W6Os8aLdutEPDw83vusHyEsNAnx/TOaplH0q/9BymhUEh4wZTOnfQda/UZ1O1BumHgH9HOqA67J5ahGgql1T6iOvPPlF61JI0+9GHTg+b948fuUCDuo40FBFy1uewNQ0hMh0Xrb3hE5ocY2RRXFZ32td6h9fQ0ND45/ZNiTP9Jmb9j3ArTZd/Lauq9Dxpul2dZgEEJr8mCAUKEcZY0H1e0zeXgyfcp2VZcB30RLXdgSncMmTrF+fb+Gzj7w50lE/tWhBNfFJe6GrYzd3nnPOmuVIYQbs8gSntvKWtRBAVm9QSPqnosMOuC90V5EW/KJ89+G7ClqR44bWeczob67atKCKTBywn2dSVB3Y0syETHTQv5vBwUEZGxtj9j5QgG3C0MDAgLRarUnP2yY+5ZnIpLbGVtXr47NENLova+Ja6PANn7qlzLrDlC3AttgOdVZvG186OnamAhkSdNq29bnZl1VAihwrT1f/zJkzReTdlW0o6IBbVhnVy5C6vV7eUraAwbUv12s+TEGAKV2evo3p2Ogs3y7srGuiSOJ8dR8+Y0ND9udzTmqjjOmzqyu3zZkzR8bGxnKfE+IVfQuqrTDkme3azVbUqlo9TDkNh4aGSDMFBHLda0zpoGyGh4d3L71ouOfYljl1TdIaGRkJzjVpy9fq+350T1k/EIrWea4sD+k1WdY1pP944tqESORjUH3Gu/iM4arLxV609TTP4HIAblkV/dDQ0HjuU/15fT8i5gmaetd9+u88wam6jal1lIlQzdCJv1XazW5bVjskA0VW66np2uR67G3Rt6C6uMaw6K+r29hu+jZljIMpmvDa99ewazsKO2AXOrYvhH4vsh3Hpwu+DNwLeoOe6cb3WioyJC70WOl+uSahi7oF1cR2EYesV521bZqjrdO5/2ytvaYlCk3UzAZqXkYAfmwtjFm9NK7yFhIUqI869f6gO0wtjkXrqzwtoqb3ZL2uMy1fjt4WdQuqqUVD/aVVJOVF+rr+S69TFUNWt12e1hO68IFyuFpTs8rkvHnzck1A8v0Bit5kmzwVkuGh6MSp0J7A0F4HdUw2WSUQ/Sx+n8IQMjPQtE1WCpgyC0hIF4ntfHzHpKWzipnlCOTjm3lDnVWsz+JPt1H3lzVLGdDlaYAoOjHY9AOr7IUnQhpj0rLCLP7eEH0Xv+vmbRqg7Tt5wPc9MVQePuegfw8kLwaql1U20xYutXWL4BSh1GtHfbhUlbUmzyI5edQldzmqE32AKuJ/E8/TXaG+N5bxXnnzzqnvW758eannBPQi3xnvankbHBw0BqYh+wZ8hMyiz7v/qqnD7bpxfMQr6jGoqqKz4GPn+/kosED3qcGlXm5tPw6rnJWPZkvrB9sk307WC1XWw6bZ/3oeYn7Y9Y7aBKgmZdzoTYFhlQXANvjblmcuVJnJkwFMHD+a996gBxBUsuhVpjpKT4cFiNSkiz9V9k3dFCh2ouLQU4HY1uzOiwIOlC/vcpNqyyk/HlFUt68hfWhcHqF1lLp9k3tSMVGtW1BFwrr+Y58MJeI+R1e2gaxMBADKl3X/qTorCHqT3tXvGsdZtpAA0ZYtx/Rv03tt2zDHojfUqgVV5N3WxzISEovE/2vMN2m4bzJ/AN1DcIq89GvHVg9UXQfkvYbTcws5R1eAi+arfQuqj9gnWNnOz+eGFPI6gPLpeVDV54EymBLYu/guje16v0i1QaHrHKnLIFLDFlSTPBVBWS2wZbGdi+tmFNP5A9gtTTMFlEGtA2z1ge/iLd2kLh1eNJcqeb57Q0+0oIrYg7mYKhL9XIoEp4ODg5NadAAA9VZ1j6AaNJoCyLzHTt+XlQ3DZ8nfVquV6xxQL41oQRUR57jUmLv3izJ93piCbgBAuapavCaLXpfmHQKg7kedP+GaX4He05gAVdWUAM231bcpnxcAMJGtZ01/Xg0Wy0gFlaVIqiidb/Ya9JbGdvHbEuLXjd6dU4ehCgCAcqn5dNM6wZRqypb5JTTQcw0l8N2XnpRfX03NVW81uecTfhrZgpqKbSJUUU36LACAcOriDym9BbKM4E4fK1pm/ZOev89CF6bzQm9odIDaFE0LtAEAYWyLs6itkT4TqPLkSjWlPAzdh+38R0ZGxh+AigAVAIAaMK1hL/JuAJl3laeyzieU3hpsW/ZbDYhprOkdBKgAANSEHhSaArY08EuDPL211ZeaGsr3fHyErCjFLP7eRYAKAEDEfCbHmiZOmf5dxXnY+KSNCglAaT3tLQSoAADUmBqchq53r8sKaIsGien+s+ZW6J+B4LT3EKACANBAWUGq7XVXkFp0MlOewJngtDcRoAIAUDO+wWWRllTbBCbX8UzSAJPxpAhBgAoAQI3knZhU9qpMeVeHAnwQoAIA0GBVBIsEp6gaASoAADXmO0bT1IrqCibzjFHNe26m97FITW8jQAUAIHKugC104pJPgJkncE1fU881a5Uo/fOwohRS/d0+AQAA4M+U/zTlCh59Wz5N+1CPWfZYVlpJYUILKgAADeCbNzR0jKi+L9/321pDCUjhgwAVAAAE8VklSseYUoQgQAUAoKZsAZ+t9dKn9bOMLnz9+ASmCEWACgBAjeUJ/orMrs96nYlOKAMBKgAADeQTTNqoK0mpAWf6/7Z0VQSnKAsBKgAADWMKPrPSQ4VMniIZP6pGmikAAGrO1hpq63JXn7MFm75BqM/kKCAULagAAEBEyg82CU6RFwEqAAAIlgazZSfuB0QIUAEAgIOtFTQrMKX1FEUwBhUAgAZLA8WslZ3S14uuSEVgijLQggoAAEoJLAlOURZaUAEA6AFq8Ji2lhKUIlYEqAAA9BhXWiqf946MjBCYolJ08QMAgCAEp6gaASoAAACiQoAKAACAqBCgAgAAICoEqAAAAIgKASoAAACiQoAKAACAqBCgAgAAICoEqAAAAIgKASoAAACiQoAKAACAqBCgAgAAICoEqAAAAIgKASoAAACiQoAKAACAqBCgAgAAICoEqAAAAIgKASoAAACiQoAKAACAqBCgAgAAICoEqAAAAIgKASoAAACiQoAKAACAqBCgAgAAICoEqAAAAIgKASoAAACiQoAKAACAqBCgAgAAICoEqAAAAIgKASoAAACiQoAKAACAqEQVoH7wgx+Um266SZ5++mnZvn27JEkis2bNmrTdAQccIIsWLZKnnnpKRkdHZcuWLfK73/1OzjnnnEnb3nPPPZIkifVxyCGHdOKjAVGhrAGd87GPfUzuuOMOWbt2rezYsUOSJDFu9773vU+uvfZaWbNmjfzzn/+U119/XVasWCGnnXbapG1XrFhhLWs7duyo+iMBlevv9gmoTjrpJLn88svl+eefl3Xr1slxxx1n3W7p0qUyMjIi3/nOd2Tnzp1y1llnyfDwsBx99NFy3XXXjW975513yhNPPDHh/X19ffL9739fXn75ZdmwYUOVHwmIEmUN6JyBgQG5+OKL5bnnnpO//vWvctRRRxm3+8IXviBXXXWVPPLII3LfffdJf3+/XHDBBfLEE0/Il770Jbn33nvHt126dKn84Ac/mPD+6dOny5133im//vWvq/w4QMcksTz233//ZJ999klEJLnyyiuTJEmSWbNmTdrusMMOSw499NBJzz/xxBPJ9u3bk7333tt5nJNPPjlJkiS55ppruv6Zq3q0Wq1k7dq1ydq1a5NWq9X18+ER14OyVu6D8sbD9Zg5c+b4dXHbbbclye4m1EmPo48+OjnwwAMnPLfnnnsmzz//fPLqq69mHqfdbidJkiTnnntu1z9zlQ/KW288grr4Tz31VEmSRObOnTvptXPPPVeSJJETTzwxZJcTbNmyRbZu3Zq53csvvyyvvvrqpOcfeeQRabVa8oEPfMD5/vnz58uuXbvkgQceyH2uQJVarZasW7dO1q1bJ61Wa/z5/fffXzZs2CBPP/20TJmSf4QOZQ2YaNasWc4hKkWMjo7K2NhY5nbPP/+8bN68ecJzO3bskJGREXn/+98v++yzj/P98+fPl61bt8qjjz5a6HyBGAR18a9cuVJeffVVabfb8sgjj0x4rd1uy4svvijPPPOM7LnnnvKe97zHa596YSzi4IMPFhGRTZs2Wbfp7++Xc845R1avXi2vvPJKaccGyjQ2NiYLFiyQp59+WpYuXSpXXnmliIjccccdMmPGDLnwwgtl165dlDWgJK+//rqcd955E56bOnWq3HzzzeNjOqdNmyZ777135r7eeecdeeONN0o7t4MPPljefPNN2bZtm3Wbgw46SD7zmc/I8PCwczugToKaXJcuXZps37492XfffcefO+igg5IdO3YkS5YsSUQkWbBgQeLLdhxXt6Ppsf/++ycbN25MnnrqKed2n/vc55IkSZKvfOUrXW++rvJBF0gzHkuXLk127tyZzJkzJznrrLOSJEmSyy+/fPx1ylocD8pbMx+333578vbbbyennnpqIiLJkiVLvMra+vXrrft0dfGbHkcccUSybdu25L777nNut3DhwiRJkuSMM87o+vdW9YPy1huP4ElSy5Ytk29+85ty9tlnyw9/+EMREZk3b55MnTpV7r//fhER+dWvfiWf/vSnQ3edW19fnwwNDcl+++0nl112mXPb+fPny44dO+THP/5xh84OyO+6666TM888U+677z7ZZ599ZOXKlXLrrbeOv05ZA6px/vnny8KFC+WKK66QlStXisju+m/VqlWZ792+fXsp5zBt2jR58MEHZfv27XL11Vc7t50/f76Mjo7K448/XsqxgRgER7Vr1qxJnnzyyfF/r169Olm9enWpkXNIq87tt9+eJEmSnHfeec7tpk+fnmzdujX56U9/2vVfBp14tFotfl024HH88ccnSZIk27ZtSw477LDS909ZK+dBeWvO46Mf/Wjy5ptvJkNDQ6Xv27cFdcqUKcmjjz6ajI2NJZ/61Kec2x5++OFJkiTJrbfe2vXvrlMPylvzH7nSTC1btkxuueUWee973yt77bWXnHTSSbJw4cLx11utlsyYMcNrX//4xz/ynMK4a6+9VhYuXChXXXXVeAuuzdy5c2X69OkyNDRU6Jh14TMoH/E7/fTTRWR3a8rs2bPl5ZdfHn+NshYPylsz7LfffvLwww/LCy+8IBdffPGE16ZPn545UUlk9xhU1/hsH3fddZeceeaZ0m63ZcWKFc5t58+fLyJCeUPjBEe1Bx54YPLWW28lixYtShYvXpy89dZbE1JjdGpc3CWXXJIkSZLcdNNNXuc9MjKS/Otf/0qmTZvW9V8GPHj4PD784Q8nY2Njyd133508++yzySuvvDJh/DdljQeP8h59fX3JL37xi2TTpk3G3opOjUH97ne/myTJxPHmrsef//zn5C9/+UvXvz8ePMp85GpB3bx5szz22GNy3nnnSavVkl/+8pcTZgh3YlzcOeecI7feeqvcf//9csUVV2Ruf9BBB8mnP/1p+dGPflTa+CCgSv39/XLvvffKhg0b5Gtf+5ocfvjh8oc//EFuvvlm+fKXvywilDWgTEuWLJHTTz9dPvvZz07oqUh1YgzqokWL5Bvf+IYsXbp0wnhzm2OPPVaOPvpouf7663MfE4hR7pWkli1bJg8//LCIiCxevHjCaxs3bpSNGzcG73Pfffcdn3hx8skni4jIpZdeKm+88Ya88cYbcscdd4jI7mXjli1bJps3b5Ynn3xS2u32hP2sXr1a1q9fP+G5dCJXL3WBoN6+/e1vy7HHHiunnXaabN26Vf70pz/J9ddfL0uXLpWHHnpIHnvsMcoaUJJjjjlGFi9eLL/5zW9k5syZk671oaEhWb9+/aTr3cehhx4q559/voiInHDCCSIi8q1vfUtERF555ZXxITNz586VG2+8UV544QVZt27dpHN4/PHHZXR0dMJz6TaUNzRRrqbXqVOnJps3b062bNmS7LXXXqU0586aNcuryySrW3PBggWT9r169epk48aNyZQpU7rebM2DR9bjuOOOS3bs2JHccsstE56fMmVKsmbNmuS1115LZsyYkXv/lDUePCY+TjnlFOe1XtW+V6xYMb5d1hCCU045ZcJ++/r6kr/97W/J2rVru/798eBR9qPvP/8TbI899pANGzbIz372s0kDyQEAAIC8cq+VOHfuXJk5c6YsW7aszPMBAABAjwtuQf34xz8uH/nIR2Tx4sWyadMmOf744ys6NQAAAPSi4BbUr371q/K9731PRkdH5YILLqjinAAAANDDco9BBQAAAKqQewwqAAAAUAUCVAAAAESFABUAAABRIUAFAABAVAhQAQAAEBUCVAAAAESFABUAAABRIUAFAABAVAhQAQAAEBUCVAAAAESFABUAAABRIUAFAABAVAhQAQAAEBUCVAAAAESFABUAAABRIUAFAABAVAhQAQAAEBUCVAAAAESFABUAAABRIUAFAABAVAhQAQAAEBUCVAAAAESFABUAAABRIUAFAABAVAhQAQAAEBUCVAAAAESFABUAAABRIUAFAABAVAhQAQAAEJX/D2HmXP8hfVCeAAAAAElFTkSuQmCC\n",
                  "text/plain": "<Figure size 660x260 with 4 Axes>"
                },
                "metadata": {},
                "output_type": "display_data"
              }
            ]
          }
        },
        "1e040c8fc1614a65b6c1c1528ba38b6c": {
          "model_module": "@jupyter-widgets/base",
          "model_module_version": "1.2.0",
          "model_name": "LayoutModel",
          "state": {
            "_model_module": "@jupyter-widgets/base",
            "_model_module_version": "1.2.0",
            "_model_name": "LayoutModel",
            "_view_count": null,
            "_view_module": "@jupyter-widgets/base",
            "_view_module_version": "1.2.0",
            "_view_name": "LayoutView",
            "align_content": null,
            "align_items": null,
            "align_self": null,
            "border": null,
            "bottom": null,
            "display": null,
            "flex": null,
            "flex_flow": null,
            "grid_area": null,
            "grid_auto_columns": null,
            "grid_auto_flow": null,
            "grid_auto_rows": null,
            "grid_column": null,
            "grid_gap": null,
            "grid_row": null,
            "grid_template_areas": null,
            "grid_template_columns": null,
            "grid_template_rows": null,
            "height": null,
            "justify_content": null,
            "justify_items": null,
            "left": null,
            "margin": null,
            "max_height": null,
            "max_width": null,
            "min_height": null,
            "min_width": null,
            "object_fit": null,
            "object_position": null,
            "order": null,
            "overflow": null,
            "overflow_x": null,
            "overflow_y": null,
            "padding": null,
            "right": null,
            "top": null,
            "visibility": null,
            "width": null
          }
        },
        "1e3183186e9d4cf3adba384d1528f3a2": {
          "model_module": "@jupyter-widgets/base",
          "model_module_version": "1.2.0",
          "model_name": "LayoutModel",
          "state": {
            "_model_module": "@jupyter-widgets/base",
            "_model_module_version": "1.2.0",
            "_model_name": "LayoutModel",
            "_view_count": null,
            "_view_module": "@jupyter-widgets/base",
            "_view_module_version": "1.2.0",
            "_view_name": "LayoutView",
            "align_content": null,
            "align_items": null,
            "align_self": null,
            "border": null,
            "bottom": null,
            "display": null,
            "flex": null,
            "flex_flow": null,
            "grid_area": null,
            "grid_auto_columns": null,
            "grid_auto_flow": null,
            "grid_auto_rows": null,
            "grid_column": null,
            "grid_gap": null,
            "grid_row": null,
            "grid_template_areas": null,
            "grid_template_columns": null,
            "grid_template_rows": null,
            "height": null,
            "justify_content": null,
            "justify_items": null,
            "left": null,
            "margin": null,
            "max_height": null,
            "max_width": null,
            "min_height": null,
            "min_width": null,
            "object_fit": null,
            "object_position": null,
            "order": null,
            "overflow": null,
            "overflow_x": null,
            "overflow_y": null,
            "padding": null,
            "right": null,
            "top": null,
            "visibility": null,
            "width": null
          }
        },
        "290383fa22704686afe12c39dc369210": {
          "model_module": "@jupyter-widgets/base",
          "model_module_version": "1.2.0",
          "model_name": "LayoutModel",
          "state": {
            "_model_module": "@jupyter-widgets/base",
            "_model_module_version": "1.2.0",
            "_model_name": "LayoutModel",
            "_view_count": null,
            "_view_module": "@jupyter-widgets/base",
            "_view_module_version": "1.2.0",
            "_view_name": "LayoutView",
            "align_content": null,
            "align_items": null,
            "align_self": null,
            "border": null,
            "bottom": null,
            "display": null,
            "flex": null,
            "flex_flow": null,
            "grid_area": null,
            "grid_auto_columns": null,
            "grid_auto_flow": null,
            "grid_auto_rows": null,
            "grid_column": null,
            "grid_gap": null,
            "grid_row": null,
            "grid_template_areas": null,
            "grid_template_columns": null,
            "grid_template_rows": null,
            "height": null,
            "justify_content": null,
            "justify_items": null,
            "left": null,
            "margin": null,
            "max_height": null,
            "max_width": null,
            "min_height": null,
            "min_width": null,
            "object_fit": null,
            "object_position": null,
            "order": null,
            "overflow": null,
            "overflow_x": null,
            "overflow_y": null,
            "padding": null,
            "right": null,
            "top": null,
            "visibility": null,
            "width": null
          }
        },
        "2a139b433c4546f8a5e25df172f537c2": {
          "model_module": "@jupyter-widgets/base",
          "model_module_version": "1.2.0",
          "model_name": "LayoutModel",
          "state": {
            "_model_module": "@jupyter-widgets/base",
            "_model_module_version": "1.2.0",
            "_model_name": "LayoutModel",
            "_view_count": null,
            "_view_module": "@jupyter-widgets/base",
            "_view_module_version": "1.2.0",
            "_view_name": "LayoutView",
            "align_content": null,
            "align_items": null,
            "align_self": null,
            "border": null,
            "bottom": null,
            "display": null,
            "flex": null,
            "flex_flow": null,
            "grid_area": null,
            "grid_auto_columns": null,
            "grid_auto_flow": null,
            "grid_auto_rows": null,
            "grid_column": null,
            "grid_gap": null,
            "grid_row": null,
            "grid_template_areas": null,
            "grid_template_columns": null,
            "grid_template_rows": null,
            "height": null,
            "justify_content": null,
            "justify_items": null,
            "left": null,
            "margin": null,
            "max_height": null,
            "max_width": null,
            "min_height": null,
            "min_width": null,
            "object_fit": null,
            "object_position": null,
            "order": null,
            "overflow": null,
            "overflow_x": null,
            "overflow_y": null,
            "padding": null,
            "right": null,
            "top": null,
            "visibility": null,
            "width": null
          }
        },
        "2f2c835e1a4d4657b7516bf23d187fd3": {
          "model_module": "@jupyter-widgets/base",
          "model_module_version": "1.2.0",
          "model_name": "LayoutModel",
          "state": {
            "_model_module": "@jupyter-widgets/base",
            "_model_module_version": "1.2.0",
            "_model_name": "LayoutModel",
            "_view_count": null,
            "_view_module": "@jupyter-widgets/base",
            "_view_module_version": "1.2.0",
            "_view_name": "LayoutView",
            "align_content": null,
            "align_items": null,
            "align_self": null,
            "border": null,
            "bottom": null,
            "display": null,
            "flex": null,
            "flex_flow": null,
            "grid_area": null,
            "grid_auto_columns": null,
            "grid_auto_flow": null,
            "grid_auto_rows": null,
            "grid_column": null,
            "grid_gap": null,
            "grid_row": null,
            "grid_template_areas": null,
            "grid_template_columns": null,
            "grid_template_rows": null,
            "height": null,
            "justify_content": null,
            "justify_items": null,
            "left": null,
            "margin": null,
            "max_height": null,
            "max_width": null,
            "min_height": null,
            "min_width": null,
            "object_fit": null,
            "object_position": null,
            "order": null,
            "overflow": null,
            "overflow_x": null,
            "overflow_y": null,
            "padding": null,
            "right": null,
            "top": null,
            "visibility": null,
            "width": null
          }
        },
        "3de7714047384a53bee230cbd88cf940": {
          "model_module": "@jupyter-widgets/controls",
          "model_module_version": "1.5.0",
          "model_name": "SliderStyleModel",
          "state": {
            "_model_module": "@jupyter-widgets/controls",
            "_model_module_version": "1.5.0",
            "_model_name": "SliderStyleModel",
            "_view_count": null,
            "_view_module": "@jupyter-widgets/base",
            "_view_module_version": "1.2.0",
            "_view_name": "StyleView",
            "description_width": "",
            "handle_color": null
          }
        },
        "408136306c0b44ea93818a06aa8fd872": {
          "model_module": "@jupyter-widgets/base",
          "model_module_version": "1.2.0",
          "model_name": "LayoutModel",
          "state": {
            "_model_module": "@jupyter-widgets/base",
            "_model_module_version": "1.2.0",
            "_model_name": "LayoutModel",
            "_view_count": null,
            "_view_module": "@jupyter-widgets/base",
            "_view_module_version": "1.2.0",
            "_view_name": "LayoutView",
            "align_content": null,
            "align_items": null,
            "align_self": null,
            "border": null,
            "bottom": null,
            "display": null,
            "flex": null,
            "flex_flow": null,
            "grid_area": null,
            "grid_auto_columns": null,
            "grid_auto_flow": null,
            "grid_auto_rows": null,
            "grid_column": null,
            "grid_gap": null,
            "grid_row": null,
            "grid_template_areas": null,
            "grid_template_columns": null,
            "grid_template_rows": null,
            "height": null,
            "justify_content": null,
            "justify_items": null,
            "left": null,
            "margin": null,
            "max_height": null,
            "max_width": null,
            "min_height": null,
            "min_width": null,
            "object_fit": null,
            "object_position": null,
            "order": null,
            "overflow": null,
            "overflow_x": null,
            "overflow_y": null,
            "padding": null,
            "right": null,
            "top": null,
            "visibility": null,
            "width": null
          }
        },
        "44494d6e4c5a4c7f94160630906ff22b": {
          "model_module": "@jupyter-widgets/base",
          "model_module_version": "1.2.0",
          "model_name": "LayoutModel",
          "state": {
            "_model_module": "@jupyter-widgets/base",
            "_model_module_version": "1.2.0",
            "_model_name": "LayoutModel",
            "_view_count": null,
            "_view_module": "@jupyter-widgets/base",
            "_view_module_version": "1.2.0",
            "_view_name": "LayoutView",
            "align_content": null,
            "align_items": null,
            "align_self": null,
            "border": null,
            "bottom": null,
            "display": null,
            "flex": null,
            "flex_flow": null,
            "grid_area": null,
            "grid_auto_columns": null,
            "grid_auto_flow": null,
            "grid_auto_rows": null,
            "grid_column": null,
            "grid_gap": null,
            "grid_row": null,
            "grid_template_areas": null,
            "grid_template_columns": null,
            "grid_template_rows": null,
            "height": null,
            "justify_content": null,
            "justify_items": null,
            "left": null,
            "margin": null,
            "max_height": null,
            "max_width": null,
            "min_height": null,
            "min_width": null,
            "object_fit": null,
            "object_position": null,
            "order": null,
            "overflow": null,
            "overflow_x": null,
            "overflow_y": null,
            "padding": null,
            "right": null,
            "top": null,
            "visibility": null,
            "width": null
          }
        },
        "597b046f2b2e4b93ab09eefb48709312": {
          "model_module": "@jupyter-widgets/base",
          "model_module_version": "1.2.0",
          "model_name": "LayoutModel",
          "state": {
            "_model_module": "@jupyter-widgets/base",
            "_model_module_version": "1.2.0",
            "_model_name": "LayoutModel",
            "_view_count": null,
            "_view_module": "@jupyter-widgets/base",
            "_view_module_version": "1.2.0",
            "_view_name": "LayoutView",
            "align_content": null,
            "align_items": null,
            "align_self": null,
            "border": null,
            "bottom": null,
            "display": null,
            "flex": null,
            "flex_flow": null,
            "grid_area": null,
            "grid_auto_columns": null,
            "grid_auto_flow": null,
            "grid_auto_rows": null,
            "grid_column": null,
            "grid_gap": null,
            "grid_row": null,
            "grid_template_areas": null,
            "grid_template_columns": null,
            "grid_template_rows": null,
            "height": null,
            "justify_content": null,
            "justify_items": null,
            "left": null,
            "margin": null,
            "max_height": null,
            "max_width": null,
            "min_height": null,
            "min_width": null,
            "object_fit": null,
            "object_position": null,
            "order": null,
            "overflow": null,
            "overflow_x": null,
            "overflow_y": null,
            "padding": null,
            "right": null,
            "top": null,
            "visibility": null,
            "width": null
          }
        },
        "6bdab4ad826b4db099b8bce8ad823319": {
          "model_module": "@jupyter-widgets/controls",
          "model_module_version": "1.5.0",
          "model_name": "SliderStyleModel",
          "state": {
            "_model_module": "@jupyter-widgets/controls",
            "_model_module_version": "1.5.0",
            "_model_name": "SliderStyleModel",
            "_view_count": null,
            "_view_module": "@jupyter-widgets/base",
            "_view_module_version": "1.2.0",
            "_view_name": "StyleView",
            "description_width": "",
            "handle_color": null
          }
        },
        "78e5b435db8c40fa985c4ba9666d3682": {
          "model_module": "@jupyter-widgets/output",
          "model_module_version": "1.0.0",
          "model_name": "OutputModel",
          "state": {
            "_dom_classes": [],
            "_model_module": "@jupyter-widgets/output",
            "_model_module_version": "1.0.0",
            "_model_name": "OutputModel",
            "_view_count": null,
            "_view_module": "@jupyter-widgets/output",
            "_view_module_version": "1.0.0",
            "_view_name": "OutputView",
            "layout": "IPY_MODEL_1e040c8fc1614a65b6c1c1528ba38b6c",
            "msg_id": "",
            "outputs": [
              {
                "data": {
                  "image/png": "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\n",
                  "text/plain": "<Figure size 660x260 with 4 Axes>"
                },
                "metadata": {},
                "output_type": "display_data"
              }
            ]
          }
        },
        "7d634c4c97404c388a350ee766b18eb0": {
          "model_module": "@jupyter-widgets/controls",
          "model_module_version": "1.5.0",
          "model_name": "VBoxModel",
          "state": {
            "_dom_classes": [
              "widget-interact"
            ],
            "_model_module": "@jupyter-widgets/controls",
            "_model_module_version": "1.5.0",
            "_model_name": "VBoxModel",
            "_view_count": null,
            "_view_module": "@jupyter-widgets/controls",
            "_view_module_version": "1.5.0",
            "_view_name": "VBoxView",
            "box_style": "",
            "children": [
              "IPY_MODEL_a20d7b201c4f46d19a14cfcbc8155858",
              "IPY_MODEL_fea7ab2ad05d4a13a9dfde592516f753",
              "IPY_MODEL_d2594a2fe8f445828944b82afe2d038e",
              "IPY_MODEL_0c26e9a3542d44168e7f66688a948de5"
            ],
            "layout": "IPY_MODEL_2f2c835e1a4d4657b7516bf23d187fd3"
          }
        },
        "81685021496a4cd58095c90e94615c73": {
          "model_module": "@jupyter-widgets/controls",
          "model_module_version": "1.5.0",
          "model_name": "VBoxModel",
          "state": {
            "_dom_classes": [
              "widget-interact"
            ],
            "_model_module": "@jupyter-widgets/controls",
            "_model_module_version": "1.5.0",
            "_model_name": "VBoxModel",
            "_view_count": null,
            "_view_module": "@jupyter-widgets/controls",
            "_view_module_version": "1.5.0",
            "_view_name": "VBoxView",
            "box_style": "",
            "children": [
              "IPY_MODEL_c71aacb244b74636898f042c29d98fbe",
              "IPY_MODEL_02fd9c34cb794160ab5db108f6090586",
              "IPY_MODEL_8cbda521f40240b184ae6a5683d463bf",
              "IPY_MODEL_78e5b435db8c40fa985c4ba9666d3682"
            ],
            "layout": "IPY_MODEL_290383fa22704686afe12c39dc369210"
          }
        },
        "8cbda521f40240b184ae6a5683d463bf": {
          "model_module": "@jupyter-widgets/controls",
          "model_module_version": "1.5.0",
          "model_name": "IntSliderModel",
          "state": {
            "_dom_classes": [],
            "_model_module": "@jupyter-widgets/controls",
            "_model_module_version": "1.5.0",
            "_model_name": "IntSliderModel",
            "_view_count": null,
            "_view_module": "@jupyter-widgets/controls",
            "_view_module_version": "1.5.0",
            "_view_name": "IntSliderView",
            "continuous_update": true,
            "description": "Z",
            "description_tooltip": null,
            "disabled": false,
            "layout": "IPY_MODEL_a99f7f9431e248acba14ca4db48877af",
            "max": 255,
            "min": 0,
            "orientation": "horizontal",
            "readout": true,
            "readout_format": "d",
            "step": 1,
            "style": "IPY_MODEL_6bdab4ad826b4db099b8bce8ad823319",
            "value": 127
          }
        },
        "a20d7b201c4f46d19a14cfcbc8155858": {
          "model_module": "@jupyter-widgets/controls",
          "model_module_version": "1.5.0",
          "model_name": "IntSliderModel",
          "state": {
            "_dom_classes": [],
            "_model_module": "@jupyter-widgets/controls",
            "_model_module_version": "1.5.0",
            "_model_name": "IntSliderModel",
            "_view_count": null,
            "_view_module": "@jupyter-widgets/controls",
            "_view_module_version": "1.5.0",
            "_view_name": "IntSliderView",
            "continuous_update": true,
            "description": "X",
            "description_tooltip": null,
            "disabled": false,
            "layout": "IPY_MODEL_2a139b433c4546f8a5e25df172f537c2",
            "max": 255,
            "min": 0,
            "orientation": "horizontal",
            "readout": true,
            "readout_format": "d",
            "step": 1,
            "style": "IPY_MODEL_3de7714047384a53bee230cbd88cf940",
            "value": 127
          }
        },
        "a99f7f9431e248acba14ca4db48877af": {
          "model_module": "@jupyter-widgets/base",
          "model_module_version": "1.2.0",
          "model_name": "LayoutModel",
          "state": {
            "_model_module": "@jupyter-widgets/base",
            "_model_module_version": "1.2.0",
            "_model_name": "LayoutModel",
            "_view_count": null,
            "_view_module": "@jupyter-widgets/base",
            "_view_module_version": "1.2.0",
            "_view_name": "LayoutView",
            "align_content": null,
            "align_items": null,
            "align_self": null,
            "border": null,
            "bottom": null,
            "display": null,
            "flex": null,
            "flex_flow": null,
            "grid_area": null,
            "grid_auto_columns": null,
            "grid_auto_flow": null,
            "grid_auto_rows": null,
            "grid_column": null,
            "grid_gap": null,
            "grid_row": null,
            "grid_template_areas": null,
            "grid_template_columns": null,
            "grid_template_rows": null,
            "height": null,
            "justify_content": null,
            "justify_items": null,
            "left": null,
            "margin": null,
            "max_height": null,
            "max_width": null,
            "min_height": null,
            "min_width": null,
            "object_fit": null,
            "object_position": null,
            "order": null,
            "overflow": null,
            "overflow_x": null,
            "overflow_y": null,
            "padding": null,
            "right": null,
            "top": null,
            "visibility": null,
            "width": null
          }
        },
        "ac724964809f47fa8c11021ca7f37dd0": {
          "model_module": "@jupyter-widgets/controls",
          "model_module_version": "1.5.0",
          "model_name": "SliderStyleModel",
          "state": {
            "_model_module": "@jupyter-widgets/controls",
            "_model_module_version": "1.5.0",
            "_model_name": "SliderStyleModel",
            "_view_count": null,
            "_view_module": "@jupyter-widgets/base",
            "_view_module_version": "1.2.0",
            "_view_name": "StyleView",
            "description_width": "",
            "handle_color": null
          }
        },
        "ae21d2d0637d4b6aac5809289cdb2ae6": {
          "model_module": "@jupyter-widgets/controls",
          "model_module_version": "1.5.0",
          "model_name": "SliderStyleModel",
          "state": {
            "_model_module": "@jupyter-widgets/controls",
            "_model_module_version": "1.5.0",
            "_model_name": "SliderStyleModel",
            "_view_count": null,
            "_view_module": "@jupyter-widgets/base",
            "_view_module_version": "1.2.0",
            "_view_name": "StyleView",
            "description_width": "",
            "handle_color": null
          }
        },
        "b43121e57dbd4b4eaa76857d44be3db3": {
          "model_module": "@jupyter-widgets/controls",
          "model_module_version": "1.5.0",
          "model_name": "SliderStyleModel",
          "state": {
            "_model_module": "@jupyter-widgets/controls",
            "_model_module_version": "1.5.0",
            "_model_name": "SliderStyleModel",
            "_view_count": null,
            "_view_module": "@jupyter-widgets/base",
            "_view_module_version": "1.2.0",
            "_view_name": "StyleView",
            "description_width": "",
            "handle_color": null
          }
        },
        "c05976c86db249248a0d43c054097560": {
          "model_module": "@jupyter-widgets/base",
          "model_module_version": "1.2.0",
          "model_name": "LayoutModel",
          "state": {
            "_model_module": "@jupyter-widgets/base",
            "_model_module_version": "1.2.0",
            "_model_name": "LayoutModel",
            "_view_count": null,
            "_view_module": "@jupyter-widgets/base",
            "_view_module_version": "1.2.0",
            "_view_name": "LayoutView",
            "align_content": null,
            "align_items": null,
            "align_self": null,
            "border": null,
            "bottom": null,
            "display": null,
            "flex": null,
            "flex_flow": null,
            "grid_area": null,
            "grid_auto_columns": null,
            "grid_auto_flow": null,
            "grid_auto_rows": null,
            "grid_column": null,
            "grid_gap": null,
            "grid_row": null,
            "grid_template_areas": null,
            "grid_template_columns": null,
            "grid_template_rows": null,
            "height": null,
            "justify_content": null,
            "justify_items": null,
            "left": null,
            "margin": null,
            "max_height": null,
            "max_width": null,
            "min_height": null,
            "min_width": null,
            "object_fit": null,
            "object_position": null,
            "order": null,
            "overflow": null,
            "overflow_x": null,
            "overflow_y": null,
            "padding": null,
            "right": null,
            "top": null,
            "visibility": null,
            "width": null
          }
        },
        "c71aacb244b74636898f042c29d98fbe": {
          "model_module": "@jupyter-widgets/controls",
          "model_module_version": "1.5.0",
          "model_name": "IntSliderModel",
          "state": {
            "_dom_classes": [],
            "_model_module": "@jupyter-widgets/controls",
            "_model_module_version": "1.5.0",
            "_model_name": "IntSliderModel",
            "_view_count": null,
            "_view_module": "@jupyter-widgets/controls",
            "_view_module_version": "1.5.0",
            "_view_name": "IntSliderView",
            "continuous_update": true,
            "description": "X",
            "description_tooltip": null,
            "disabled": false,
            "layout": "IPY_MODEL_44494d6e4c5a4c7f94160630906ff22b",
            "max": 255,
            "min": 0,
            "orientation": "horizontal",
            "readout": true,
            "readout_format": "d",
            "step": 1,
            "style": "IPY_MODEL_ac724964809f47fa8c11021ca7f37dd0",
            "value": 127
          }
        },
        "d2594a2fe8f445828944b82afe2d038e": {
          "model_module": "@jupyter-widgets/controls",
          "model_module_version": "1.5.0",
          "model_name": "IntSliderModel",
          "state": {
            "_dom_classes": [],
            "_model_module": "@jupyter-widgets/controls",
            "_model_module_version": "1.5.0",
            "_model_name": "IntSliderModel",
            "_view_count": null,
            "_view_module": "@jupyter-widgets/controls",
            "_view_module_version": "1.5.0",
            "_view_name": "IntSliderView",
            "continuous_update": true,
            "description": "Z",
            "description_tooltip": null,
            "disabled": false,
            "layout": "IPY_MODEL_c05976c86db249248a0d43c054097560",
            "max": 255,
            "min": 0,
            "orientation": "horizontal",
            "readout": true,
            "readout_format": "d",
            "step": 1,
            "style": "IPY_MODEL_ae21d2d0637d4b6aac5809289cdb2ae6",
            "value": 127
          }
        },
        "d5a4b8c279854b65bdb81633111730f7": {
          "model_module": "@jupyter-widgets/controls",
          "model_module_version": "1.5.0",
          "model_name": "SliderStyleModel",
          "state": {
            "_model_module": "@jupyter-widgets/controls",
            "_model_module_version": "1.5.0",
            "_model_name": "SliderStyleModel",
            "_view_count": null,
            "_view_module": "@jupyter-widgets/base",
            "_view_module_version": "1.2.0",
            "_view_name": "StyleView",
            "description_width": "",
            "handle_color": null
          }
        },
        "fea7ab2ad05d4a13a9dfde592516f753": {
          "model_module": "@jupyter-widgets/controls",
          "model_module_version": "1.5.0",
          "model_name": "IntSliderModel",
          "state": {
            "_dom_classes": [],
            "_model_module": "@jupyter-widgets/controls",
            "_model_module_version": "1.5.0",
            "_model_name": "IntSliderModel",
            "_view_count": null,
            "_view_module": "@jupyter-widgets/controls",
            "_view_module_version": "1.5.0",
            "_view_name": "IntSliderView",
            "continuous_update": true,
            "description": "Y",
            "description_tooltip": null,
            "disabled": false,
            "layout": "IPY_MODEL_597b046f2b2e4b93ab09eefb48709312",
            "max": 255,
            "min": 0,
            "orientation": "horizontal",
            "readout": true,
            "readout_format": "d",
            "step": 1,
            "style": "IPY_MODEL_b43121e57dbd4b4eaa76857d44be3db3",
            "value": 127
          }
        },
        "a8d3771754fe4287856d7be6fe8049af": {
          "model_module": "@jupyter-widgets/controls",
          "model_name": "VBoxModel",
          "model_module_version": "1.5.0",
          "state": {
            "_dom_classes": [
              "widget-interact"
            ],
            "_model_module": "@jupyter-widgets/controls",
            "_model_module_version": "1.5.0",
            "_model_name": "VBoxModel",
            "_view_count": null,
            "_view_module": "@jupyter-widgets/controls",
            "_view_module_version": "1.5.0",
            "_view_name": "VBoxView",
            "box_style": "",
            "children": [
              "IPY_MODEL_33ef11c962ca475cbf1c1c06ec50d421",
              "IPY_MODEL_574b999101644a2a8ec5e64eb5c178c0",
              "IPY_MODEL_60d3f52ed8c248cc876c2ebc7623ebb1",
              "IPY_MODEL_9c98f7d6758e4d9d8a724c7ad7ea3070"
            ],
            "layout": "IPY_MODEL_43689c87d8524c7aa5f0aa607767e617"
          }
        },
        "33ef11c962ca475cbf1c1c06ec50d421": {
          "model_module": "@jupyter-widgets/controls",
          "model_name": "IntSliderModel",
          "model_module_version": "1.5.0",
          "state": {
            "_dom_classes": [],
            "_model_module": "@jupyter-widgets/controls",
            "_model_module_version": "1.5.0",
            "_model_name": "IntSliderModel",
            "_view_count": null,
            "_view_module": "@jupyter-widgets/controls",
            "_view_module_version": "1.5.0",
            "_view_name": "IntSliderView",
            "continuous_update": true,
            "description": "X",
            "description_tooltip": null,
            "disabled": false,
            "layout": "IPY_MODEL_8dc217d2ad7943dabe22098943830fa0",
            "max": 255,
            "min": 0,
            "orientation": "horizontal",
            "readout": true,
            "readout_format": "d",
            "step": 1,
            "style": "IPY_MODEL_1cfd63e9571e454c979d9bd543f3fafb",
            "value": 127
          }
        },
        "574b999101644a2a8ec5e64eb5c178c0": {
          "model_module": "@jupyter-widgets/controls",
          "model_name": "IntSliderModel",
          "model_module_version": "1.5.0",
          "state": {
            "_dom_classes": [],
            "_model_module": "@jupyter-widgets/controls",
            "_model_module_version": "1.5.0",
            "_model_name": "IntSliderModel",
            "_view_count": null,
            "_view_module": "@jupyter-widgets/controls",
            "_view_module_version": "1.5.0",
            "_view_name": "IntSliderView",
            "continuous_update": true,
            "description": "Y",
            "description_tooltip": null,
            "disabled": false,
            "layout": "IPY_MODEL_2a07a91ea80a4e3a89ac08857592ba33",
            "max": 255,
            "min": 0,
            "orientation": "horizontal",
            "readout": true,
            "readout_format": "d",
            "step": 1,
            "style": "IPY_MODEL_2b17c0784d6a4048be3a4613d5d1c47c",
            "value": 127
          }
        },
        "60d3f52ed8c248cc876c2ebc7623ebb1": {
          "model_module": "@jupyter-widgets/controls",
          "model_name": "IntSliderModel",
          "model_module_version": "1.5.0",
          "state": {
            "_dom_classes": [],
            "_model_module": "@jupyter-widgets/controls",
            "_model_module_version": "1.5.0",
            "_model_name": "IntSliderModel",
            "_view_count": null,
            "_view_module": "@jupyter-widgets/controls",
            "_view_module_version": "1.5.0",
            "_view_name": "IntSliderView",
            "continuous_update": true,
            "description": "Z",
            "description_tooltip": null,
            "disabled": false,
            "layout": "IPY_MODEL_7e3a1d8e5bf44e15af5de4295788dad9",
            "max": 255,
            "min": 0,
            "orientation": "horizontal",
            "readout": true,
            "readout_format": "d",
            "step": 1,
            "style": "IPY_MODEL_a8274cc7d20a4affb3bb4405afdcfc4b",
            "value": 127
          }
        },
        "9c98f7d6758e4d9d8a724c7ad7ea3070": {
          "model_module": "@jupyter-widgets/output",
          "model_name": "OutputModel",
          "model_module_version": "1.0.0",
          "state": {
            "_dom_classes": [],
            "_model_module": "@jupyter-widgets/output",
            "_model_module_version": "1.0.0",
            "_model_name": "OutputModel",
            "_view_count": null,
            "_view_module": "@jupyter-widgets/output",
            "_view_module_version": "1.0.0",
            "_view_name": "OutputView",
            "layout": "IPY_MODEL_eb80eff7d1704422a05210b15ad5b784",
            "msg_id": "",
            "outputs": [
              {
                "output_type": "display_data",
                "data": {
                  "text/plain": "<Figure size 660x260 with 4 Axes>",
                  "image/png": "iVBORw0KGgoAAAANSUhEUgAAAqgAAAEYCAYAAACQmgS0AAAAOXRFWHRTb2Z0d2FyZQBNYXRwbG90bGliIHZlcnNpb24zLjcuMSwgaHR0cHM6Ly9tYXRwbG90bGliLm9yZy/bCgiHAAAACXBIWXMAAA9hAAAPYQGoP6dpAAAy9klEQVR4nO3de4xdVd3w8d/UKZxapCDNxHijipeE4IXgNTaKUSNPNcozGCb0FIroHwpWjWLwVjA+NnnVBANIlHiDxoMZgQFvgxd4AR2q1fK8iUZIEC2gNjgWIT6FDqV0v3/w7GHNmnXdl7PX3uf7SU4o5+zLOmf22uu313VMRDIBAAAAErGi6QQAAAAAKgJUAAAAJIUAFQAAAEkhQAUAAEBSCFABAACQFAJUAAAAJIUAFQAAAEkhQAUAAEBSCFABAACQFAJUAAAAJIUAFQAAAEkhQAUAAEBSCFABAACQFAJUAAAAJIUAFQAAAEkhQAUAAEBSCFABAACQFAJUAAAAJIUAFQAAAEkhQAUAAEBSCFABAACQFAJUAAAAJIUAFQAAAEkhQAUAAEBSCFABAACQFAJUAAAAJIUAFQAAAEkhQAUAAEBSCFABAACQFAJUAAAAJIUAFQAAAEkhQAUAAEBSCFABAACQFAJUAAAAJIUAFQAAAEkhQAUAAEBSCFABAACQFAJUAAAAJIUAtcN6vZ70er2mkwGMBPIbMDzkt+4jQO2oXq8nc3NzMjc3RyYGakZ+A4aH/DYaCFABAACQlGQC1M2bN0uWZXLSSSc1nRRg8XrMX48//rj87W9/k+985zvy7Gc/u+nkAWgRyjekpC3l23jTCQBStnXrVtm9e7f0ej153eteJ2effbasX79eTjjhBHnssceaTh4AAIWkXr4RoAION954o9xxxx0iIvKtb31L9u7dK5/85CflXe96l1xzzTUNpw4AgGJSL9+SaeIH2uBXv/qViIgcd9xxDacEAIDqpFa+EaACEdatWyciIg899FCzCQEAoEKplW808QMOa9askWOOOUZ6vZ689rWvlYsuukgWFhbkxz/+cdNJAwCgsNTLNwJUwOHmm29e8v+7d++WTZs2yd///veGUgQAQHmpl28EqIDDueeeK3fffbesWbNGzjnnHHnjG9+YxOhGAADKSL18I0AFHH77298ujnK84YYbZG5uTq6++mp56UtfKo888kjDqQMAoJjUyzcGSQGBDh06JJ/61KfkOc95jnzoQx9qOjkAAFQixfKNABWIcNttt8nOnTvlox/9qBx++OFNJwcAgEqkVr4l18R/zjnnyCmnnLLs/UsuuUT27dvXQIqApb785S/LtddeK2effbZcccUVTScHQEtQviF1KZVvyQWo5557rvH9K6+8kgyMJMzMzMg999wj559/vnzjG9+QQ4cONZ0kAC1A+YbUpVS+jYlI1tjZUZterydzc3MiIrJ+/XpZWFhoOEVAd5HfgOEhv40G+qACAAAgKQSoAAAASAoBKgAAAJJCgAoAAICkEKACAAAgKQSoAAAASAoBKgAAAJJCgAoAAICkEKACAAAgKQSoAAAASAoBKgAAAJJCgAoAAICkEKACAAAgKQSoAAAASAoBKgAAAJJCgAoAAICkEKACAAAgKQSoAAAASAoBKgAAAJJCgAoAAICkEKACAAAgKQSoAAAASAoBKgAAAJJCgAoAAICkEKAO0ezsbNNJAAAASN540wkYBWpgmv97w4YNxs/1zwAAAEYNAaqDq8YzJIgMqTE1bWPbj8AVAACMAgLUgtSaUFNAaQomB4OB9Pv9xf1jA071PASrAACgq+iDWlJov9LBYFDJNrHnBQAAaBtqUAPlwWNeA1rneULPUaQWFgCAqrha9uiuhjIIUCPFBJC+/W2Z11aTajovQSoAIJRpoK7pc1VoGaOWR65WPsothBipALVMxvOJCVxN28Z0Aai7FhdoG1+hG7KvisITXRQ7o4z6vilPqNvn5Vpo9zOCVPh0PkD1ZRZX84Q6AKrf7y8GiGqgGNNvVFV0PwBLuQpd1xRuvhoefXugi9RA0TboV98u59pexFzO0YUNoTofoJrYaiJjM2BMkFkmmLWd19bkD4y62JogEXO+Cikk9XPNzMyICMEtmhM744vtOo9pGSxaxpnSmr9HkDraRm4Uv5qBQjNTSAYJycRVNs0TnKLrZmdnl73U90MNBoNleV3fv2jB6quFJU+iaep1aAtCyxw75jhquWXrMqDnGfLQ6Bq5AFXnK7hCxPQ9rZqpKZPuA2i7mEUu8jyQB6L6y8W0je+eEBt4UsBimFytBzpX/hhGORLbPQCjZeQDVJOyBYqvXw6AcGpB5apdCXlQbCpvcj9AHfTWhRBqzaXenWVYD15VtUqi20YuQI3poF2GKQNWleHy44RM5wG0WUgtSkyQGtrSUEXLCjVAGKYyA/vUloSQloci9HLLlx5dkWAc7TZyAapI9UGqrTBronO37cZi6ssHtJmtIO33+8vyeL/fX5Ifq17ZLQZ5EFXIryFbC4Ot73VMs7oaVLrKs7KDo9Tj2IJTVT4QEd02kgGqroqCyHYMPVNX3WxhqhHSz2HKzBSQ6Apf/s2DU9c1bwpqQ44dmybTlFhAWa5uMEX7mcbUeFaBFgfoOj/NVNlm8CoKEfqkYtSV6SPnWlnNNDex+v8h1MC06FQ5k5OTMjc3Zz0uU+WgSbGLw8QGp+qxbcd1TeQfmufKruSIdml9DWpVTdcho33LSKGA4gkVbeDqJ2pqkdALR3UfU9O+/nmRdLlMT08XOiZN/4ih54XQGStC+5jWUWaZzhsTnGK0tDpANd3Mm7jB25oHRcwdu+t4AvTN70rmRtsUrQUtu4+vpsm0mEcItc+g67sRpMLH9jATE4Da2ObYDr0ufXkxNlDO97GhP2p3tbaJP3aZwiLN7CF921xSKWjyGh2aHFE319KiOdtADNNnJrZuO67medOSxS627Wwr27gKySJ5jRV0YDPMcsU2rZvv2iy7cmLsPYH80k2tDFBDM6h+0RZZN9jEF5hWPdrRdg7TKM7c9PS0bNmyJTh9ZHCU4ZscXL1eXU3yOb2Ay//tCoBnZ2eNfVBNaTM9rPnuDbZ9fPejVB5U0V62a6iOljFXX1FVyMDD/Hg+tjLV1ho4Pj5uLd/QHa1r4q9qftI6O1rXeTMpmm7T3Klll5AERMLzpGmqGtP1nL8Xcq3HTptjCzRNYvKaqd+pq6uNfmzXwyYwbDHLgKsvk6JlFnkBraxBdam7FjAms9U5er9ogRa6hCS1qQjhm9LGlF/0Gku1tlR9kMprRPWa1NgCzzYoytSXtOolg2OO4eueQJ6Ersqp0UKOE9N6WKTsKzLrzvT0tExNTVFudVDralBtfBMJ69uKFHuyC838dQWmvsFQVaEmFT4x8y2a2JZc9KliIIhI+ZVpqqj19N2zmDcVsYY9DZPtulTL5GGliTzSLZ0JUFPgKzTz0f5lM2uRwlkfOVlkJCVgY2u6tvUdNfHlC1dtUdFV35rg+p6++ScpgEdbk/dr2+h+9b8msUub2o7lyjcp5GtUr5MBat19KauYxqmKQLUqqaQD7REyOCLnCiJjJwI3LWEakgY9PWUL+tj7i+nh1NecGfs+RsewAlVXpUod16EvOA3tl45uaG0fVFNfNNuUGHWdX2cqfHx9cspOxxEqdNoOtSaMPj0IETIKP6deU3rfytDrLaRfqysN+nFMfcV985QWnfHDdj9w9a011U6TNyFS78pKtuOG1O4X6Ytqy1OufKrvn29L/uiGTtagNsF1k9BrdPVRj3XXYE5NTS35f2pMUZWQANC0nalvZdnp2fJCKSZvhczTqr4fUnM1NTVlrHWyTU3lWwjAth01RaNnWPduvbJFz1dVzykeko5Y5I/2a3WA2oZ+J7bVruruhqAHpTpT003IvJNAWa4V4NR8ERNkhvSFi0lP1WwFu2/kvg/5c/QMs4KhbC1kHddnTF9U8ke7tTpATUUVg56qklLfVnSfb1nQomvdu0YG6/8/zK49Nq4HQlNwaquJ9a2vbus2QUHcPcOoyKiCqWWh6unaMJo6FaDGPO1V2cncVmiEbFc2DWpNaJnAtExggdHmC1Jd7/v6epr4JgZXtwtRtpZI//6Tk5POJlHfd/ZNX2W7d6UeyCBcFSse1sk2RVzIaHydqQyzlWf5eX0thOiGVgySirnxFu0jU5Ztmh3982HcXDZs2CC9Xk/m5uZE5MkCc2FhQUTCAufQlXYwOvRmd73mssxgP9dAj9DFLlz5b1gDEXMzMzOL/zb9XiEDFkPSW+cAGTSn6PzCpjypq2Lu4PxcNup1WeR8roGFIcgX3TEmIlnTiXAJyayhI2VN6ii4TKMO6yogXRlxYmJCRETm5+eNn/tqTQlOEdLUbqsddAVipgJM3z528n79GLZzm9IRcmzfMVz5zffgHHJfM31H03vk2/aLeSgTefLvb7rGyqyOZjum6bixxzadK1R+7jy/XXbZZXLw4EHrccgP7dWqJv4iqzj5Ls6qnrR8zewpPdExOT/KMg1mEombziykf6Vr/5D3fccs+7nJ9PS0dz+9i4L6u8XcR/JtizStot1s0yzaWjmKimmqLyqmTJqdnZXJycnF/w/p/412SroG1VXbUGT6GNvxqwjWfLW4+c2i7prU/Pjj4+OyZcsWEVn6hOnbP0fGhkhY4aTXslQ96M8ktQcsU34LzVPq72bax7bAgW8eVfJwu5lqLfXPXDXoVQxUiu16M8w5vfUaVGpPu6cVfVB1McGprc9M1bUMpima1PTUXatRZfMKmRox1PlHZ2dna+/zmVpwGsMVdMQ209v6tarnIi+3V+ygX3WSev2zOpjKtWH09x4MBkseCG249tsv2QA1NqDzBaAxfb/KqqNzel0ITlEFPRiqqqDSawZTzUdFqa0rOdNKW7ZuS8N4+EVaYv7eXcsvGC3JBqg2MU33LmTc5QhOYRPSAmEKtqrQlbzqa5Y1LQOb/9s2KE2tuUb3hIyaz5UdPW87Zq6JcRShU9ihm1oXoNoMs4a0ar4pqupi6mRPkAqV7XoImc5t2NM7tZXaRSJkW9O+6J4iDx11d60Z1lr3vkGC09PTtZ0b6Ug+QDUFb01MHZVTp5DS0xUjZlqZYYp5Ykf32PpIxiy9qfeNJEhd+jvmv4l6b/MNCDX1K3QNjCH/dlOREfV15r+qa+9Dp4z0TdTP9d8NyQeouqZqSm21jbFNIGXX3q5SUzW3SJOr2d5FL6Robl4uZGUg2wOqq+nWtPQrRkNIJYf6XuoPir7xEKEPy+SB7kg+QFVrG1IbfKQX3q5gtciSjsNi+m1pOhwtITV0tmmN6up7WgXfpPYhCwiEfGbiCzxt28d8ZsqnrpkC0B6+PKW2ToRUMlTZmlH3NRVzfJY97a7kA1RVXiim/iQoUmxRASAFes2d7WHFNbWNfqwUuJZBNU2Ab0t70UB1GIrWgiNNIUFq0X19xwu5busov1w1pXlfbXUpb9O+6IZkV5IqsjpNE7oSYKb2u2J4Qib0Nk0jZds+b/Fo+prKl2qMXU3O1b9c/w1S6B6Tr+rVlXsRlooNutRrPnTwnYh5lbLY89mOW1VecV3jBKfd05oa1LbUnMagQEGK9AdCW1O+PtgnZabCy1ZDo7IFqSnkXdeKerbPGETVXW34m4aU47F5a3JyUhYWFsokC4lKeqlTkWqWa6uSa+m3WFUsFed6KtWXgrPtY+s724YbHsoLGcAj0o5lR2NqfXQhgy/0OUjV/7flt6qFdjHwLX+pvo920R80bNeubxnimIG9trLBVEa7juu6bmNqWfP8tn79egLUjkq6BjWFWophism4MUHB1NSU99gpBRlIhxoMdWnWB9fk9zpbEFD14DBT4NmF3xrVCx3RXkX/Y9NAZfW4VfZ1dbUKYPQk2wdVV3UAVbRPTJU1nGWOoT/Nxvazy/cDTNeBfk3pBUoq/UxjFE2rq/CtcwCS797h+jyk9hSjwfZ3jymbfNva7hU624BEfZsq7yv0z26v1gSoVVIzhCmzVNWpO2b/ohlyMBiU6lemDwhpU8CB4WpDzYZvCif18zzfhBRevm0mJydDk+gVEgzELhRiSz8Fd3uV+dsV7a6Tf257qPXt61shSt8+pDyamZmxfsb8zO2WdBO/quhIfj3wUleC0i/Y0Jt9bBPcMJrQ1eUSXU/MegHtmj6I6WlGV+g1lKKm05d3qfH9VkX7y/oKWn21O4wGX7kU0kXHNu2a+llVfUhtx9eFpDu0rKJMa5eka1BtF1KRTJDKlDC5IkvW2eQZuOwI3ZR+H2AYqqhVMR0jz0u21piizfeh6VWb9UP6KSJtIVOJmbrh6P8uK7RbSR1ivwetBu2X/Ch+kfhJwIs0rfv2CTmXrx+OqXkxZiSuL036tuooR1cziA1PmqPLtLJUV9jmPc3FjEpWa5vy/DY/P289t21EtG+QVuzfw9fi5PsNkBbb7AuxM8GEVnj4yh3bNRU77ZnrHCbqMdT85puVw3R+rvn0JV2DmrMNAvINHnIdT6T6QjfmySzkaTCkliXk+87MzDgzo+n3zQtFOphDpNq+2Smpo5DS+6P6HlxNzY55nrR1wfFxDWLr0t+vi2LuuaHlYgxfU37s8YuUs7HnMM2wUeb8SEMrAtRcFZmx6DFsBXPVma9IEBAywMk3T17+b9eUOhgN+lyfJl0IckLmQvXlLVu/OT3A9AXCpmmvijwgFuk6QE1SOmIH9VR5bbQBweZoaVWAKuIOMEOnwpidnS18oZuCR/Vps+n+Xq7vpdfIxE5WTpDafa4HE9fUU21iyiOuQDDke05PTy/+29edpszv5mpadd0HTfetmGUwMZq6FBB26buMitaM4lcHABUZgW/r59XWQlYXM01U6ATlGC22ZrH82gpdvaYN1OnZQvhGN+tMfQZdfU2L9DPVz63+XVz3NYLSNMVcj6GrvzWpbDrKzBhSZpYepKMVAare7OG72fuOUTdbDe2wMsi1V14p77j7bnnZnj2ycu9eWXjmM+Wvp5wiq0XkESWNLl1aNQjl6NdCmwPTskz54mn798u666+XdT//+ZL8du9//qc8sWqViBS/b8UIOYfpMwLW5rlGnDf99wkZ4DTM0f22/KaWb+iGVo/it9UE+mp4qlxKMGRi4zKZO9bT9u+X115wgRz55z/LWPbUn/YJEfl/InKyPJmJfZ3I6as2WkIfWLqozKCPsyYnjfntkIj8z4teJDu/+MXFINV2X7K9X3bVupj5U8nbzfHNGhHaFauO+UldM8WYuvuYWvKqKt8Gg4Ec/vjjcvF///ey/JaNjckdWbZYvoksnymHUfztE1yD2uv16kyHld6fa3p6WqampkTkyQswHzGrjpw1pVXtIzY+Xl3Fse9YvV5PrrvuusU0123d9dcvy7wiIk8TkRNF5BPj4/J/tDTr38GU1snJycauAdRvcnLS2Xey3+8vyUNdkn+v0DyaF3TT09Oy77/+y5jfVojIkX/+s6y7/nr588aNIrL0fqXK85X+N4i9T+nfI6amtqt5e2FhIWi7VL6/6W9uu25C9i1b7ujHzK+x6enpJb9ZXsbln1dZxqppeccf/2jMb2NZFly+5VL5m4+i0HwZXIO6a9euMunBkLxswwY5zDIPYyYij09MyB9GuIkWqBL5LW3r168PKgwp39qB/NYNr3rVq4K2a90ofrit3LvX+tmY53MAcchvwPCQ30ZLcA1q09XhatOX2tSYN2HYmkBMzZaxTXouerNnyDFN6Y9lapKdnp6Wi6+5Rp756KPGfTIR+buIvFj5W87MzASnJ6SZCe2mX1P6deZr5rddP7b9YvPLMPnSNjk5Kf864ghZZSkUMxFZWLtWbt2+3XsuNW+Z8rWepir+LqOQn9vQxG/7e6t/s9TKN7WpX31fbebX96kiLXWVb6OQF1ISmi+DO4qEHrAu6ujTqampZZ23Y9J38ODBytLlO5ZpAEQV5zd934MHD8r/fdGL5LQ//GFZHx2RJwduXPG/+9rS4xrU1fQ1gPr5BtYUvXZN+9mmSNLlhUqRgVplBmv4BjjOzMzIX6++Wl48GBjzm4yNyV9POSXoXK68Zfrt9O1Nv5Et7QwOWS6le1v+91avP1v6TLMyVDneQb/2bOWuul2V5auelr2Tk3K0Jb+p5ZvIU/eSkPLNt9oimtGKUfw52yjXfr9vvbhiRjvGrHtvYxspGDpC17QIgPqZb6J0dZSjZNlTf2BllOM1EcvA+UaTotv0kbA50xyFrmvXtp3rmoodqWxj28f23WxM+U2dNUPPb/8+7rglo/hNiozQztMRM2UVeTdNvnKh6Gj+KmeGsaXJ9TBb1zSLeX57xj33yJiIsXxzzVLDQ1u7dKYPahVzCw4Gg6FdqLaMkqfBtRaya//HVq6UnV/8ovyp35fHJyYkW7FCFtaulQu1KTjyc6nHM71yZODR4wpO1f/ahE5q7zp3FdTr2bZYR0i6TPnxiVWrjPntT/1+oeDU9r4tjSGrQZF320u95kKWn64yOPWVQS51zZ+d57d7Nm1alt9OluXzoKqVWE3ce1BOKybq96n6iVGtmYipYTQdR/23nklc87KZvlP+ue+7bp+ZkX6/L//z0Y+KiMj8/Lx8wdGEGrpELFClmOuqqnlY83zlCp5d5zLlyydWrZI/b9y4JL+5hHzv2JXvyKPtU3beW9t+VZeHuarmDC97HFN+c62OGLOqWr5vCgskoEM1qDaxF5nafFH15OSxx8ufYMs8yYo81QHcNyG0CZl0dIU+EIXSjzM7O2t9qepYJKDMpOYx+bFM/sn3JQ92n++hKNem2j1XK2GVeVod4OTrZqDy5as2/dZd1aoaVL1WQe8HZ3vqiV1eUM1YIStFqfuENhWWyaBln0Rjg1OWRoRtLXrfetmuNexD1LmClatvWsg64L58VGWAqdcQkQfbreouLLmy+SVm/6auww0bNkiv15O5uTnrNnreNJVl+uqTBKTp6VwNatGLLL+gi9Za6tu6Mm7eF65shlDPqadZnVrDNBWJr9kjz7BkWuRCg0z92q+yudHUP7ouIUFq3WwP3GivIt2sQpXJG8O+1oueb3Z21limucoqX1lm+4zyr1mtGsUvEj7CVWR5rYNtn2FmzNDayNiMoQan/X5fxsfHZcuWLSLyVJ84V42P7bcKXRsa3VZmtLheU1HkuPo5QrqrlG2l0GuIXAW/Kb+p6XUx/Qbkse4KueZ9M2RUkY9859S5yg3X+ct0p3GZmJgQkadWCzONGwnprkM3t3S1qolfxFwVr9Z0qBecWsDYqvBdmaeOgiNk/6I3G1tGm56e9s5N5/pthlFbhbSFBFlqHgspuPTjqvnVtp9thLtJmRrQfF81TUW7KlQdoGP0FLn2YvYpW0lTtIm8SBqrLo98DwNoTqsC1LywCAlS8/fUfXP6E1ZbO6HXxfUEytMkTEIDL71W0jV1Tt3XmmsQh/rv2AJrenraOlk69xeEKNu9pEz3tGGrIvAsU6nT9PeHXWsCVHX6BxFzDY1+seU1IPn2totYrS0ZBSEZ0tcNAFDF5B29ttW3nUlojU3I1FGmfaoYbFK2wCW/wSTkuuhiLaDtO6n9UYtMuUWQmq7WBKg6tTY1/38Re4HkK8y6mKGBupSp6YzZ3tXU75plwjYXYpFVo8rOT8m9BakaRmAWmpdCH+oGg8GSPt9VIEhNU2sDVJHltamq/IKra9LiUUEtDnxiWx6qaKmw9S/39TlXA9XQe0ORWlhV0RYLalGhcl2voS0KRa7hYZafvv6gofPF2vZ3scUM5MPmtGoUvz5Kz9U/Mnad7VzMqhN1KdrZXKU+YV522WXeQVI6Ru3DJ8UuMVXUzrrY7idl81uOrjXdVmR2Fl1IkGobR1BkpL6Lqz95iNgWjXz70PzW7/e9M4vY0kQZ2LxWzoMa0ow/ShdU0adi35KPQIiQ9eCHpe1z99LMCB/bHN11zq/atDKL29hm41FfqmHNswy/VgWopjkJ9Qu3zYVTru41yl2Zj1H7iKUHhfpiF1UEXbHXYch9IKXAGjBx3atj89UoP/y4llIWoZxLVasC1FBtr0XJ+TJN2eC0quABo8l2fZpq58tea2ofU9N5Tccvs7iACXkFTagySK1a2XK2qZpKV7CKdLRukJTaz2bYI++a6Cwd0vk9tCN5TM1pfm6gDL07TtlJsW3TxpW9F/gWCBjWfYamxdHmGtxnuwbVPpOmaZZCNXntlR2IWAXXrCBoRmdqUE0XdtUX+7AvVNcTXtkpbGKWgwNsQvOErc9z0ZpVW41qFSvi6JoMTikcuyV0RTbbzDQp16amJrRcMwWktv6pGK5WjeLP6RdU7Fq/ReZCFGkmQNW5ZjBQR3DGjCrOj0VmRFFFm8qqmmWj6tqP0GWR81orPb/ZVpLSj5PCrCEYrqJdT2KX6i4iZHW1qo9d5Fwh5Zs+Cj+2BZTppZrXuiZ+kfDmvbJrdOvBoGve1WGps7aTDImi9AAxdPqZ2AdIV3BXZX+ykMn+Q/Ji0TXKyYfQlZ3SyaXOwLRp6tzIupDV7Gz7on6daeLXVVkrWHTwRVmhaS9aCJrQaRxVULunxOZB1xRoqjxf2gqgsnk/tKnVl079OL5aUwpDiNjvxVXeo335LIXuX1XPCMIAqfZoZQ2qiLsWtUimsnXSbjqD+oLPMsFp098N3Weamzjmeg25Rk2rSlUZ5JXJY7a00N8UIdTrp6kWrioGI6srNJUtdwaDgWzevDlou36/TyDaYq0NUEXMQWpZbQraTAVn0WUVgbrVWVDoQWrVYoNUdblE28wDQC6k+bmpB5j8vFUMyA2pRNID4nzbIq2iLHXebq0OUEXcN/2uFAh63yNbTVQdI5iBtqi7hqlMkCryVPqYKBw617WrfzbMck2fIaOKYC/kOGVbRPXzxSKoTUMrR/Gb2G76+go3NurTma9JvWmu76RmrImJCRERmZ+ftx4rhe+D7qi74HSNpM//PYxrWs+D6qjikPw2qssy40lF84np+vEFYIPBYMkMLyLhA/xMbPNuh87HXfYesWHDBun1ejI3Nyci/llqYjU9ew+e0pkA1cSXEWzBXcoXpOnGZLvZ+ALUlL8n2qtMLaP+mY3aZ7yJAsX0HclvCFUmSNOD1CIBqm4Y051V+fA6OTlZeYBKv/D0tL6J3yYkM5hWudE7Vad2georaRU9BtCUIqvd5LWk+vKpqdJbYshzyFXVJzlm/w0bNizryxkqtekH8xrUqvjmVkZzOhugxlCbCE39xkTaf7G2Pf3oljIzbbiOMazr3DUjweTk5FDTgvYqMrNFUWX6VVYRpKpBchVpKovANH0j2cQfOsgo5b4ovoEWah+d9evXy8LCwtDSBjQ1OLGpPEp+QyhXzXrsKlOzs7NBTfwxx7YtG14mSA1Jp3oeV3oGg0HpPqihgXFKZf4o6nQNqmt1GxNbk3+KyDgA0G562eQaya//f0gZoAZ3vi4BrgAy36/u5v6QOVf7/b6Mjw8ndEmte8Oo6XSAmrNdYLYMm2pQCrRFU1O8UaCgjYrklS5MoegTuxQyumUkAlQXVxMLBR1QXJ1rh7sQpKINTJPRlzlGiJBJ9+sY0e/qa+v7HYbZTzdPj2n+YgzfyAeoOi5EAEDd9MG5wzpn0c/rKhttzfp1Bqa27ntNTVsHMwJUALVrqjYVSJktOAud9L7KdJg0HZxVvVqiC10H0rOi6QQAGC0bNmyoZMoaV99yoI36/X5tYyDKHnd2dnbxVYXBYLBssRk1SKw7OFVrr6taVhXVogYVQCNCm/BcASfBKODnC7xsTd5db+3wBb3cX5pFgAqgURQCGFUhA6XK1Byajlnnamy+Qcb6Sohq7aVr22Gg72l6CFABAGiIq3az6gCy7Lls+/sCSXUkvClIrVPo3KpID31QAQBowDCD09jz69v5Rvjrr5w6yb+6fWwayvClnwFSaaIGFQAALBMaPOY1pFU2yVdxTD39w6ixRXWoQQUAYATEBGd5cGeqGVWDRrWGNOb4w65FVc9Fk347EKACADAkIdOjDbOWLw/W1KAtpDlcnXJKHeyU/1t/L99HNYyBSLYp6QhS00cTPwAAQ6Q2Xeu1kk00QZuCVF1oU3tKgd9gMFjsKmCq/dVX80op7SBABQBg6PIgVQ2YfBPGVxG8FgnETMFpnn49Taaps/r9/pLv6wsW8+NXxZV+dZEAgtS0EKACADBktpWShhEgxQZipsFKaqCpvqfvZ/vMJDQwn5qa8h7LtK9prtOuL0bQZgSoAAAkYJi1d2qQGhuo5fvqU0fZaj2LBoGm/Xy/kelzUzO+HmAzwj89BKgAAAyZHhQ22bQcO6WTKZiLHR3vOpealiIzD4S+r58LaSFABQAgIaagqY7aPb1GMZQtqDMFrSHHChXbLUEk7nvR/zQtBKgAADTAFOgNKzhVj13FoCmR4gGe7Xiu/qMuatAb2w9W3wfNIUAFAKAhvoFGTfeL1Kdpsm3jo+9vquG0fdeQ4FTfxpYm/bxNzM2KMASoAAAkINW+kHof1ZBg07Sd6bgi4YFpnobp6WnZsmWL97guBKLpI0AFACBBTdSeFum7qe8bwnd8U3BaBwZJpYsAFQCAFtKDuDoDWjWIs9WkFuFLc5E+pPrx1d/JlHZqU9O0oukEAACA5WIHHVU1Ct3Xf7PoMWOXS1VXnwqddsqUxqb78aIYAlQAABJgCq6KzO1Z9vyuQLRIkKrXWob2ES0yYMw1IwCBarvQxA8AQCJMAWDoiHSXkJWSfMcp2rSv1oTmYtJSdLopdXt9NSnTUq1ICzWoAAAkKKZZXKT4NE0p1CzmK1Gpzftl6PubVrpicFTaqEEFACAxIcFTlQFWmTlIy5zLdnx9GVjfggKmwVCuFa9YNSp91KACADACigRlpsC1TGBsC07zxQBciwKkUNOL4SFABQAgMUWauOuoFTQdMzZtpoDW1NwesuSpje2708+0vWjiBwCgA2yBnNqk7Ros5ZpXtWigpwedviDaNZCqSABOP9P2IkAFACBBVa1ypAd2tiA1f8/U59OUjpCg1fYd1BkIfDWkvsA0dNUp9fu5tkMaaOIHAKCFXP01VaYA0DfgyLafKnaWgSL7mtI5PT297D1T/9WQrgVIFzWoAAAkSq+B1APS2AAxtla2TDN7yHliBz4NBgMZH38qdJmamvKeS685FaH2tA0IUAEAaImiA4lMUyvZgs3YY5kmvS+yClTIYgKxTMEp2oEmfgAAEuar7YtZaSlkBSXTpPb6uWICyZhR+Pq51X1NxzE19+fLmtqCU2pP24EaVAAAWqxI7aCvr2YItSZVDXxjljTVm91tE+v70hGK4LQ9CFABAEicHryZmux9AaK6Dr26f9G17tXR8Kb9XJPymwLRqqeEoua03QhQAQBoATWwCw0k9X6dribz2JpYPeC1dR/o9/tL0p7/t+r+pq70E5y2DwEqAAAtoQZ6tsFKek1q2cFHrgn8Q/erIih1BaAEp93DICkAAFrIFJTZmslDJrvXAzl9wFJooOebKD+Wno7JycnFf+fTTMWmBekbE5Gs6USger1eT+bm5kREZP369bKwsNBwioDuIr+hCbF9NkMGLJn6h5qmkNJHyKu1uTGDpWwj9n39YycmJkREZH5+3nhcAtP2o4kfAIARYgsKRcyj8WMC4SIj+U3pUt9Tp7YK6SdLcNoN1KB2FDU6wPCQ39Ak06T4oYGcWhsaQq1lNdVuqgGqa3YA3wAt06wF6nZ5Der69etlZmZmybnRDQSoHUWBCQwP+Q1Nc63cZApWbYFkCFvwa5pb1beSk+ncIVNWqQEq+a2baOIHAKDlTCP3XduWmXM0tIbWlI6QBQJcQS1Llo4ORvEDANARIc3cRYJT1xKkpvOa0hG7epW+ZClGCzWoAAB0iC0Q1OdQLUKfUzVm6ilfN4SYZVHRfQSoAAB0VNGBQ/o0T3mzvrqsqWv1KP3crlH9+fFsQaoemE5OTi72+UZ3MUiqoxi0AQwP+Q1tYmpedwWGek2nWhsaEwC7mvV9/WLV85DfRgN9UAEAGCHqcqg5vZZS/X+976m+pGrMeatIK0YDTfwAAIygmJH/IX1EY85p+6xIzSy6iQAVAIARZmtejwlgq0wLIEKACgDAyIsJDAkiMQwEqAAAwIqAFE1gkBQAAACSQoAKAACApBCgAgAAICkEqAAAAEgKASoAAACSklSA+pKXvEQuvvhiuf3222X//v2SZZkce+yxy7Z75jOfKeeff77cdtttMj8/Lw899JD8+te/ltNPP33Ztt/5znckyzLr69nPfvYwvhqQFPIaMDyvfvWr5fLLL5ddu3bJgQMHJMvMK4w/97nPlQsvvFB27twp//rXv+Sf//yn3HLLLfKWt7xl2ba33HKLNa8dOHCg7q8E1C6paaZe//rXy4c//GG588475a677pITTzzRut22bdtkdnZWvvCFL8jBgwfltNNOk+npaTn++OPlc5/73OK2V1xxhdx0001L9h8bG5Ovf/3rcu+998qePXvq/EpAkshrwPBs2LBB3v/+98vvf/97+ctf/iIvfelLjdu9+93vlgsuuEBuuOEGueqqq2R8fFzOOussuemmm+S9732vXHnllYvbbtu2Tb75zW8u2X/16tVyxRVXyM9//vM6vw4wNFkqr6OPPjo74ogjMhHJPv7xj2dZlmXHHnvssu3WrVuXPf/5z1/2/k033ZTt378/e/rTn+48zxve8IYsy7LsU5/6VOPfua5Xr9fLdu3ale3atSvr9XqNp4dXWi/yWrUv8hsv12tiYmLxurjsssuy7Mkq1GWv448/PjvmmGOWvHfYYYdld955Z3b//fd7z9Pv97Msy7Izzjij8e9c54v8NhqvqCb+k08+WbIsk1NPPXXZZ2eccYZkWSave93rYg65xEMPPST79u3zbnfvvffK/fffv+z9G264QXq9nrzwhS907r9x40Y5dOiQXH311YXTCtSp1+vJXXfdJXfddZf0er3F948++mjZs2eP3H777bJiRfEeOuQ1YKljjz3W2UWljPn5eVlYWPBud+edd8qDDz645L0DBw7I7OysPO95z5MjjjjCuf/GjRtl37598oMf/KBUeoEURDXx33rrrXL//fdLv9+XG264Ycln/X5f7rnnHvnNb34jhx12mDzjGc8IOqaeGct41rOeJSIie/futW4zPj4up59+uuzYsUPuu+++ys4NVGlhYUE2b94st99+u2zbtk0+/vGPi4jI5ZdfLmvWrJGzzz5bDh06RF4DKvLPf/5TNm3atOS9lStXyle+8pXFPp2rVq2Spz/96d5jPfHEE/Lwww9XlrZnPetZ8sgjj8ijjz5q3Wbt2rXytre9Taanp53bAW0SVeW6bdu2bP/+/dmRRx65+N7atWuzAwcOZBdddFEmItnmzZuzULbzuJodTa+jjz46e+CBB7LbbrvNud073vGOLMuy7AMf+EDj1dd1vmgC6cZr27Zt2cGDB7P169dnp512WpZlWfbhD3948XPyWhov8ls3X1/96lezxx9/PDv55JMzEckuuuiioLy2e/du6zFdTfym13HHHZc9+uij2VVXXeXc7rzzzsuyLMtOOeWUxn+3ul/kt9F4RQ+S2r59u3z605+W97znPfLtb39bRESmpqZk5cqV8t3vfldERH72s5/JW9/61thDFzY2NiaDwUCOOuoo2bJli3PbjRs3yoEDB+T73//+kFIHFPe5z31O3vnOd8pVV10lRxxxhNx6661y6aWXLn5OXgPqceaZZ8p5550nH/vYx+TWW28VkSfLv7m5Oe+++/fvryQNq1atkmuuuUb2798vn/zkJ53bbty4Uebn5+UXv/hFJecGUhAd1e7cuTO7+eabF/9/x44d2Y4dOyqNnGNqdb761a9mWZZlmzZtcm63evXqbN++fdkPf/jDxp8MhvHq9Xo8XXbgddJJJ2VZlmWPPvpotm7dusqPT16r5kV+687rFa94RfbII49kg8Gg8mOH1qCuWLEi+8EPfpAtLCxkb37zm53bvuAFL8iyLMsuvfTSxn+7Yb3Ib91/FZpmavv27XLJJZfIc57zHDn88MPl9a9/vZx33nmLn/d6PVmzZk3Qsf7xj38UScKiCy+8UM477zy54IILFmtwbU499VRZvXq1DAaDUudsi5BO+Ujf29/+dhF5sjblxS9+sdx7772Ln5HX0kF+64ajjjpKrrvuOrn77rvl/e9//5LPVq9e7R2oJPJkH1RX/+wQ3/jGN+Sd73yn9Pt9ueWWW5zbbty4UUSE/IbOiY5qjznmmOyxxx7Lzj///Gzr1q3ZY489tmRqjGH1izv33HOzLMuyiy++OCjds7Oz2b///e9s1apVjT8Z8OIV8nrZy16WLSwsZN/61reyO+64I7vvvvuW9P8mr/HiVd1rbGws+8lPfpLt3bvX2FoxrD6oX/rSl7IsW9rf3PX64x//mP3pT39q/PfjxavKV6Ea1AcffFBuvPFG2bRpk/R6PfnpT3+6ZITwMPrFnX766XLppZfKd7/7XfnYxz7m3X7t2rXy1re+Vb73ve9V1j8IqNP4+LhceeWVsmfPHvnIRz4iL3jBC+R3v/udfOUrX5H3ve99IkJeA6p00UUXydvf/nb5j//4jyUtFblh9EE9//zz5ROf+IRs27ZtSX9zm1e+8pVy/PHHy+c///nC5wRSVHglqe3bt8t1110nIiJbt25d8tkDDzwgDzzwQPQxjzzyyMWBF294wxtERORDH/qQPPzww/Lwww/L5ZdfLiJPLhu3fft2efDBB+Xmm2+Wfr+/5Dg7duyQ3bt3L3kvH8g1Sk0gaLfPfvaz8spXvlLe8pa3yL59++QPf/iDfP7zn5dt27bJtddeKzfeeCN5DajICSecIFu3bpVf/vKXMjExsexaHwwGsnv37mXXe4jnP//5cuaZZ4qIyKte9SoREfnMZz4jIiL33XffYpeZU089Vb785S/L3XffLXfdddeyNPziF7+Q+fn5Je/l25Df0EWFql5XrlyZPfjgg9lDDz2UHX744ZVU5x577LFBTSa+Zs3NmzcvO/aOHTuyBx54IFuxYkXj1da8ePleJ554YnbgwIHskksuWfL+ihUrsp07d2Z/+9vfsjVr1hQ+PnmNF6+lrze96U3Oa72uY99yyy2L2/m6ELzpTW9actyxsbHsr3/9a7Zr167Gfz9evKp+jf3vP6I97WlPkz179siPfvSjZR3JAQAAgKIKr5V46qmnysTEhGzfvr3K9AAAAGDERdegvuY1r5GXv/zlsnXrVtm7d6+cdNJJNSUNAAAAoyi6BvWDH/ygfO1rX5P5+Xk566yz6kgTAAAARljhPqgAAABAHQr3QQUAAADqQIAKAACApBCgAgAAICkEqAAAAEgKASoAAACSQoAKAACApBCgAgAAICkEqAAAAEgKASoAAACSQoAKAACApBCgAgAAICkEqAAAAEgKASoAAACSQoAKAACApBCgAgAAICkEqAAAAEgKASoAAACSQoAKAACApBCgAgAAICkEqAAAAEgKASoAAACSQoAKAACApBCgAgAAICkEqAAAAEgKASoAAACSQoAKAACApBCgAgAAICkEqAAAAEgKASoAAACS8v8B9rWLS+dlT7wAAAAASUVORK5CYII=\n"
                },
                "metadata": {}
              }
            ]
          }
        },
        "43689c87d8524c7aa5f0aa607767e617": {
          "model_module": "@jupyter-widgets/base",
          "model_name": "LayoutModel",
          "model_module_version": "1.2.0",
          "state": {
            "_model_module": "@jupyter-widgets/base",
            "_model_module_version": "1.2.0",
            "_model_name": "LayoutModel",
            "_view_count": null,
            "_view_module": "@jupyter-widgets/base",
            "_view_module_version": "1.2.0",
            "_view_name": "LayoutView",
            "align_content": null,
            "align_items": null,
            "align_self": null,
            "border": null,
            "bottom": null,
            "display": null,
            "flex": null,
            "flex_flow": null,
            "grid_area": null,
            "grid_auto_columns": null,
            "grid_auto_flow": null,
            "grid_auto_rows": null,
            "grid_column": null,
            "grid_gap": null,
            "grid_row": null,
            "grid_template_areas": null,
            "grid_template_columns": null,
            "grid_template_rows": null,
            "height": null,
            "justify_content": null,
            "justify_items": null,
            "left": null,
            "margin": null,
            "max_height": null,
            "max_width": null,
            "min_height": null,
            "min_width": null,
            "object_fit": null,
            "object_position": null,
            "order": null,
            "overflow": null,
            "overflow_x": null,
            "overflow_y": null,
            "padding": null,
            "right": null,
            "top": null,
            "visibility": null,
            "width": null
          }
        },
        "8dc217d2ad7943dabe22098943830fa0": {
          "model_module": "@jupyter-widgets/base",
          "model_name": "LayoutModel",
          "model_module_version": "1.2.0",
          "state": {
            "_model_module": "@jupyter-widgets/base",
            "_model_module_version": "1.2.0",
            "_model_name": "LayoutModel",
            "_view_count": null,
            "_view_module": "@jupyter-widgets/base",
            "_view_module_version": "1.2.0",
            "_view_name": "LayoutView",
            "align_content": null,
            "align_items": null,
            "align_self": null,
            "border": null,
            "bottom": null,
            "display": null,
            "flex": null,
            "flex_flow": null,
            "grid_area": null,
            "grid_auto_columns": null,
            "grid_auto_flow": null,
            "grid_auto_rows": null,
            "grid_column": null,
            "grid_gap": null,
            "grid_row": null,
            "grid_template_areas": null,
            "grid_template_columns": null,
            "grid_template_rows": null,
            "height": null,
            "justify_content": null,
            "justify_items": null,
            "left": null,
            "margin": null,
            "max_height": null,
            "max_width": null,
            "min_height": null,
            "min_width": null,
            "object_fit": null,
            "object_position": null,
            "order": null,
            "overflow": null,
            "overflow_x": null,
            "overflow_y": null,
            "padding": null,
            "right": null,
            "top": null,
            "visibility": null,
            "width": null
          }
        },
        "1cfd63e9571e454c979d9bd543f3fafb": {
          "model_module": "@jupyter-widgets/controls",
          "model_name": "SliderStyleModel",
          "model_module_version": "1.5.0",
          "state": {
            "_model_module": "@jupyter-widgets/controls",
            "_model_module_version": "1.5.0",
            "_model_name": "SliderStyleModel",
            "_view_count": null,
            "_view_module": "@jupyter-widgets/base",
            "_view_module_version": "1.2.0",
            "_view_name": "StyleView",
            "description_width": "",
            "handle_color": null
          }
        },
        "2a07a91ea80a4e3a89ac08857592ba33": {
          "model_module": "@jupyter-widgets/base",
          "model_name": "LayoutModel",
          "model_module_version": "1.2.0",
          "state": {
            "_model_module": "@jupyter-widgets/base",
            "_model_module_version": "1.2.0",
            "_model_name": "LayoutModel",
            "_view_count": null,
            "_view_module": "@jupyter-widgets/base",
            "_view_module_version": "1.2.0",
            "_view_name": "LayoutView",
            "align_content": null,
            "align_items": null,
            "align_self": null,
            "border": null,
            "bottom": null,
            "display": null,
            "flex": null,
            "flex_flow": null,
            "grid_area": null,
            "grid_auto_columns": null,
            "grid_auto_flow": null,
            "grid_auto_rows": null,
            "grid_column": null,
            "grid_gap": null,
            "grid_row": null,
            "grid_template_areas": null,
            "grid_template_columns": null,
            "grid_template_rows": null,
            "height": null,
            "justify_content": null,
            "justify_items": null,
            "left": null,
            "margin": null,
            "max_height": null,
            "max_width": null,
            "min_height": null,
            "min_width": null,
            "object_fit": null,
            "object_position": null,
            "order": null,
            "overflow": null,
            "overflow_x": null,
            "overflow_y": null,
            "padding": null,
            "right": null,
            "top": null,
            "visibility": null,
            "width": null
          }
        },
        "2b17c0784d6a4048be3a4613d5d1c47c": {
          "model_module": "@jupyter-widgets/controls",
          "model_name": "SliderStyleModel",
          "model_module_version": "1.5.0",
          "state": {
            "_model_module": "@jupyter-widgets/controls",
            "_model_module_version": "1.5.0",
            "_model_name": "SliderStyleModel",
            "_view_count": null,
            "_view_module": "@jupyter-widgets/base",
            "_view_module_version": "1.2.0",
            "_view_name": "StyleView",
            "description_width": "",
            "handle_color": null
          }
        },
        "7e3a1d8e5bf44e15af5de4295788dad9": {
          "model_module": "@jupyter-widgets/base",
          "model_name": "LayoutModel",
          "model_module_version": "1.2.0",
          "state": {
            "_model_module": "@jupyter-widgets/base",
            "_model_module_version": "1.2.0",
            "_model_name": "LayoutModel",
            "_view_count": null,
            "_view_module": "@jupyter-widgets/base",
            "_view_module_version": "1.2.0",
            "_view_name": "LayoutView",
            "align_content": null,
            "align_items": null,
            "align_self": null,
            "border": null,
            "bottom": null,
            "display": null,
            "flex": null,
            "flex_flow": null,
            "grid_area": null,
            "grid_auto_columns": null,
            "grid_auto_flow": null,
            "grid_auto_rows": null,
            "grid_column": null,
            "grid_gap": null,
            "grid_row": null,
            "grid_template_areas": null,
            "grid_template_columns": null,
            "grid_template_rows": null,
            "height": null,
            "justify_content": null,
            "justify_items": null,
            "left": null,
            "margin": null,
            "max_height": null,
            "max_width": null,
            "min_height": null,
            "min_width": null,
            "object_fit": null,
            "object_position": null,
            "order": null,
            "overflow": null,
            "overflow_x": null,
            "overflow_y": null,
            "padding": null,
            "right": null,
            "top": null,
            "visibility": null,
            "width": null
          }
        },
        "a8274cc7d20a4affb3bb4405afdcfc4b": {
          "model_module": "@jupyter-widgets/controls",
          "model_name": "SliderStyleModel",
          "model_module_version": "1.5.0",
          "state": {
            "_model_module": "@jupyter-widgets/controls",
            "_model_module_version": "1.5.0",
            "_model_name": "SliderStyleModel",
            "_view_count": null,
            "_view_module": "@jupyter-widgets/base",
            "_view_module_version": "1.2.0",
            "_view_name": "StyleView",
            "description_width": "",
            "handle_color": null
          }
        },
        "eb80eff7d1704422a05210b15ad5b784": {
          "model_module": "@jupyter-widgets/base",
          "model_name": "LayoutModel",
          "model_module_version": "1.2.0",
          "state": {
            "_model_module": "@jupyter-widgets/base",
            "_model_module_version": "1.2.0",
            "_model_name": "LayoutModel",
            "_view_count": null,
            "_view_module": "@jupyter-widgets/base",
            "_view_module_version": "1.2.0",
            "_view_name": "LayoutView",
            "align_content": null,
            "align_items": null,
            "align_self": null,
            "border": null,
            "bottom": null,
            "display": null,
            "flex": null,
            "flex_flow": null,
            "grid_area": null,
            "grid_auto_columns": null,
            "grid_auto_flow": null,
            "grid_auto_rows": null,
            "grid_column": null,
            "grid_gap": null,
            "grid_row": null,
            "grid_template_areas": null,
            "grid_template_columns": null,
            "grid_template_rows": null,
            "height": null,
            "justify_content": null,
            "justify_items": null,
            "left": null,
            "margin": null,
            "max_height": null,
            "max_width": null,
            "min_height": null,
            "min_width": null,
            "object_fit": null,
            "object_position": null,
            "order": null,
            "overflow": null,
            "overflow_x": null,
            "overflow_y": null,
            "padding": null,
            "right": null,
            "top": null,
            "visibility": null,
            "width": null
          }
        },
        "88ec97e17123433f935dc8d3dbb21150": {
          "model_module": "@jupyter-widgets/controls",
          "model_name": "VBoxModel",
          "model_module_version": "1.5.0",
          "state": {
            "_dom_classes": [
              "widget-interact"
            ],
            "_model_module": "@jupyter-widgets/controls",
            "_model_module_version": "1.5.0",
            "_model_name": "VBoxModel",
            "_view_count": null,
            "_view_module": "@jupyter-widgets/controls",
            "_view_module_version": "1.5.0",
            "_view_name": "VBoxView",
            "box_style": "",
            "children": [
              "IPY_MODEL_4dae9e584ce44bbb88523a5901cf128f",
              "IPY_MODEL_4f5aa1e0ec834f28955939587db2f217",
              "IPY_MODEL_2488cd471c69464a9f735da760881d12",
              "IPY_MODEL_f169a03588b944ff96d41c49e7020aa6"
            ],
            "layout": "IPY_MODEL_8e2075cc31524b7690785bc6114e9dfe"
          }
        },
        "4dae9e584ce44bbb88523a5901cf128f": {
          "model_module": "@jupyter-widgets/controls",
          "model_name": "IntSliderModel",
          "model_module_version": "1.5.0",
          "state": {
            "_dom_classes": [],
            "_model_module": "@jupyter-widgets/controls",
            "_model_module_version": "1.5.0",
            "_model_name": "IntSliderModel",
            "_view_count": null,
            "_view_module": "@jupyter-widgets/controls",
            "_view_module_version": "1.5.0",
            "_view_name": "IntSliderView",
            "continuous_update": true,
            "description": "X",
            "description_tooltip": null,
            "disabled": false,
            "layout": "IPY_MODEL_93301398a77f411f8480442915a886d8",
            "max": 255,
            "min": 0,
            "orientation": "horizontal",
            "readout": true,
            "readout_format": "d",
            "step": 1,
            "style": "IPY_MODEL_b532999955da4c80bcc1db4c542e8263",
            "value": 127
          }
        },
        "4f5aa1e0ec834f28955939587db2f217": {
          "model_module": "@jupyter-widgets/controls",
          "model_name": "IntSliderModel",
          "model_module_version": "1.5.0",
          "state": {
            "_dom_classes": [],
            "_model_module": "@jupyter-widgets/controls",
            "_model_module_version": "1.5.0",
            "_model_name": "IntSliderModel",
            "_view_count": null,
            "_view_module": "@jupyter-widgets/controls",
            "_view_module_version": "1.5.0",
            "_view_name": "IntSliderView",
            "continuous_update": true,
            "description": "Y",
            "description_tooltip": null,
            "disabled": false,
            "layout": "IPY_MODEL_4e094ca5df8c4cfe8380857a18b2e9c7",
            "max": 255,
            "min": 0,
            "orientation": "horizontal",
            "readout": true,
            "readout_format": "d",
            "step": 1,
            "style": "IPY_MODEL_e19580da5a284aedaf3294de908e273d",
            "value": 127
          }
        },
        "2488cd471c69464a9f735da760881d12": {
          "model_module": "@jupyter-widgets/controls",
          "model_name": "IntSliderModel",
          "model_module_version": "1.5.0",
          "state": {
            "_dom_classes": [],
            "_model_module": "@jupyter-widgets/controls",
            "_model_module_version": "1.5.0",
            "_model_name": "IntSliderModel",
            "_view_count": null,
            "_view_module": "@jupyter-widgets/controls",
            "_view_module_version": "1.5.0",
            "_view_name": "IntSliderView",
            "continuous_update": true,
            "description": "Z",
            "description_tooltip": null,
            "disabled": false,
            "layout": "IPY_MODEL_43fd0cd1798045759bd8fc1d946b4b67",
            "max": 255,
            "min": 0,
            "orientation": "horizontal",
            "readout": true,
            "readout_format": "d",
            "step": 1,
            "style": "IPY_MODEL_010e62884eac4e79a98089f8156b1e05",
            "value": 127
          }
        },
        "f169a03588b944ff96d41c49e7020aa6": {
          "model_module": "@jupyter-widgets/output",
          "model_name": "OutputModel",
          "model_module_version": "1.0.0",
          "state": {
            "_dom_classes": [],
            "_model_module": "@jupyter-widgets/output",
            "_model_module_version": "1.0.0",
            "_model_name": "OutputModel",
            "_view_count": null,
            "_view_module": "@jupyter-widgets/output",
            "_view_module_version": "1.0.0",
            "_view_name": "OutputView",
            "layout": "IPY_MODEL_5bce3c8d1bb1440e801c0bb7ea08816c",
            "msg_id": "",
            "outputs": [
              {
                "output_type": "display_data",
                "data": {
                  "text/plain": "<Figure size 660x260 with 4 Axes>",
                  "image/png": "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\n"
                },
                "metadata": {}
              }
            ]
          }
        },
        "8e2075cc31524b7690785bc6114e9dfe": {
          "model_module": "@jupyter-widgets/base",
          "model_name": "LayoutModel",
          "model_module_version": "1.2.0",
          "state": {
            "_model_module": "@jupyter-widgets/base",
            "_model_module_version": "1.2.0",
            "_model_name": "LayoutModel",
            "_view_count": null,
            "_view_module": "@jupyter-widgets/base",
            "_view_module_version": "1.2.0",
            "_view_name": "LayoutView",
            "align_content": null,
            "align_items": null,
            "align_self": null,
            "border": null,
            "bottom": null,
            "display": null,
            "flex": null,
            "flex_flow": null,
            "grid_area": null,
            "grid_auto_columns": null,
            "grid_auto_flow": null,
            "grid_auto_rows": null,
            "grid_column": null,
            "grid_gap": null,
            "grid_row": null,
            "grid_template_areas": null,
            "grid_template_columns": null,
            "grid_template_rows": null,
            "height": null,
            "justify_content": null,
            "justify_items": null,
            "left": null,
            "margin": null,
            "max_height": null,
            "max_width": null,
            "min_height": null,
            "min_width": null,
            "object_fit": null,
            "object_position": null,
            "order": null,
            "overflow": null,
            "overflow_x": null,
            "overflow_y": null,
            "padding": null,
            "right": null,
            "top": null,
            "visibility": null,
            "width": null
          }
        },
        "93301398a77f411f8480442915a886d8": {
          "model_module": "@jupyter-widgets/base",
          "model_name": "LayoutModel",
          "model_module_version": "1.2.0",
          "state": {
            "_model_module": "@jupyter-widgets/base",
            "_model_module_version": "1.2.0",
            "_model_name": "LayoutModel",
            "_view_count": null,
            "_view_module": "@jupyter-widgets/base",
            "_view_module_version": "1.2.0",
            "_view_name": "LayoutView",
            "align_content": null,
            "align_items": null,
            "align_self": null,
            "border": null,
            "bottom": null,
            "display": null,
            "flex": null,
            "flex_flow": null,
            "grid_area": null,
            "grid_auto_columns": null,
            "grid_auto_flow": null,
            "grid_auto_rows": null,
            "grid_column": null,
            "grid_gap": null,
            "grid_row": null,
            "grid_template_areas": null,
            "grid_template_columns": null,
            "grid_template_rows": null,
            "height": null,
            "justify_content": null,
            "justify_items": null,
            "left": null,
            "margin": null,
            "max_height": null,
            "max_width": null,
            "min_height": null,
            "min_width": null,
            "object_fit": null,
            "object_position": null,
            "order": null,
            "overflow": null,
            "overflow_x": null,
            "overflow_y": null,
            "padding": null,
            "right": null,
            "top": null,
            "visibility": null,
            "width": null
          }
        },
        "b532999955da4c80bcc1db4c542e8263": {
          "model_module": "@jupyter-widgets/controls",
          "model_name": "SliderStyleModel",
          "model_module_version": "1.5.0",
          "state": {
            "_model_module": "@jupyter-widgets/controls",
            "_model_module_version": "1.5.0",
            "_model_name": "SliderStyleModel",
            "_view_count": null,
            "_view_module": "@jupyter-widgets/base",
            "_view_module_version": "1.2.0",
            "_view_name": "StyleView",
            "description_width": "",
            "handle_color": null
          }
        },
        "4e094ca5df8c4cfe8380857a18b2e9c7": {
          "model_module": "@jupyter-widgets/base",
          "model_name": "LayoutModel",
          "model_module_version": "1.2.0",
          "state": {
            "_model_module": "@jupyter-widgets/base",
            "_model_module_version": "1.2.0",
            "_model_name": "LayoutModel",
            "_view_count": null,
            "_view_module": "@jupyter-widgets/base",
            "_view_module_version": "1.2.0",
            "_view_name": "LayoutView",
            "align_content": null,
            "align_items": null,
            "align_self": null,
            "border": null,
            "bottom": null,
            "display": null,
            "flex": null,
            "flex_flow": null,
            "grid_area": null,
            "grid_auto_columns": null,
            "grid_auto_flow": null,
            "grid_auto_rows": null,
            "grid_column": null,
            "grid_gap": null,
            "grid_row": null,
            "grid_template_areas": null,
            "grid_template_columns": null,
            "grid_template_rows": null,
            "height": null,
            "justify_content": null,
            "justify_items": null,
            "left": null,
            "margin": null,
            "max_height": null,
            "max_width": null,
            "min_height": null,
            "min_width": null,
            "object_fit": null,
            "object_position": null,
            "order": null,
            "overflow": null,
            "overflow_x": null,
            "overflow_y": null,
            "padding": null,
            "right": null,
            "top": null,
            "visibility": null,
            "width": null
          }
        },
        "e19580da5a284aedaf3294de908e273d": {
          "model_module": "@jupyter-widgets/controls",
          "model_name": "SliderStyleModel",
          "model_module_version": "1.5.0",
          "state": {
            "_model_module": "@jupyter-widgets/controls",
            "_model_module_version": "1.5.0",
            "_model_name": "SliderStyleModel",
            "_view_count": null,
            "_view_module": "@jupyter-widgets/base",
            "_view_module_version": "1.2.0",
            "_view_name": "StyleView",
            "description_width": "",
            "handle_color": null
          }
        },
        "43fd0cd1798045759bd8fc1d946b4b67": {
          "model_module": "@jupyter-widgets/base",
          "model_name": "LayoutModel",
          "model_module_version": "1.2.0",
          "state": {
            "_model_module": "@jupyter-widgets/base",
            "_model_module_version": "1.2.0",
            "_model_name": "LayoutModel",
            "_view_count": null,
            "_view_module": "@jupyter-widgets/base",
            "_view_module_version": "1.2.0",
            "_view_name": "LayoutView",
            "align_content": null,
            "align_items": null,
            "align_self": null,
            "border": null,
            "bottom": null,
            "display": null,
            "flex": null,
            "flex_flow": null,
            "grid_area": null,
            "grid_auto_columns": null,
            "grid_auto_flow": null,
            "grid_auto_rows": null,
            "grid_column": null,
            "grid_gap": null,
            "grid_row": null,
            "grid_template_areas": null,
            "grid_template_columns": null,
            "grid_template_rows": null,
            "height": null,
            "justify_content": null,
            "justify_items": null,
            "left": null,
            "margin": null,
            "max_height": null,
            "max_width": null,
            "min_height": null,
            "min_width": null,
            "object_fit": null,
            "object_position": null,
            "order": null,
            "overflow": null,
            "overflow_x": null,
            "overflow_y": null,
            "padding": null,
            "right": null,
            "top": null,
            "visibility": null,
            "width": null
          }
        },
        "010e62884eac4e79a98089f8156b1e05": {
          "model_module": "@jupyter-widgets/controls",
          "model_name": "SliderStyleModel",
          "model_module_version": "1.5.0",
          "state": {
            "_model_module": "@jupyter-widgets/controls",
            "_model_module_version": "1.5.0",
            "_model_name": "SliderStyleModel",
            "_view_count": null,
            "_view_module": "@jupyter-widgets/base",
            "_view_module_version": "1.2.0",
            "_view_name": "StyleView",
            "description_width": "",
            "handle_color": null
          }
        },
        "5bce3c8d1bb1440e801c0bb7ea08816c": {
          "model_module": "@jupyter-widgets/base",
          "model_name": "LayoutModel",
          "model_module_version": "1.2.0",
          "state": {
            "_model_module": "@jupyter-widgets/base",
            "_model_module_version": "1.2.0",
            "_model_name": "LayoutModel",
            "_view_count": null,
            "_view_module": "@jupyter-widgets/base",
            "_view_module_version": "1.2.0",
            "_view_name": "LayoutView",
            "align_content": null,
            "align_items": null,
            "align_self": null,
            "border": null,
            "bottom": null,
            "display": null,
            "flex": null,
            "flex_flow": null,
            "grid_area": null,
            "grid_auto_columns": null,
            "grid_auto_flow": null,
            "grid_auto_rows": null,
            "grid_column": null,
            "grid_gap": null,
            "grid_row": null,
            "grid_template_areas": null,
            "grid_template_columns": null,
            "grid_template_rows": null,
            "height": null,
            "justify_content": null,
            "justify_items": null,
            "left": null,
            "margin": null,
            "max_height": null,
            "max_width": null,
            "min_height": null,
            "min_width": null,
            "object_fit": null,
            "object_position": null,
            "order": null,
            "overflow": null,
            "overflow_x": null,
            "overflow_y": null,
            "padding": null,
            "right": null,
            "top": null,
            "visibility": null,
            "width": null
          }
        }
      }
    }
  },
  "nbformat": 4,
  "nbformat_minor": 0
}